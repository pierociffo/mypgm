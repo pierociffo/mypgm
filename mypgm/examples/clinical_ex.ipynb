{
 "metadata": {
  "language_info": {
   "codemirror_mode": {
    "name": "ipython",
    "version": 3
   },
   "file_extension": ".py",
   "mimetype": "text/x-python",
   "name": "python",
   "nbconvert_exporter": "python",
   "pygments_lexer": "ipython3",
   "version": "3.7.4"
  },
  "orig_nbformat": 2,
  "kernelspec": {
   "name": "python3",
   "display_name": "Python 3.7.4 64-bit ('base': conda)",
   "metadata": {
    "interpreter": {
     "hash": "dca0ade3e726a953b501b15e8e990130d2b7799f14cfd9f4271676035ebe5511"
    }
   }
  }
 },
 "nbformat": 4,
 "nbformat_minor": 2,
 "cells": [
  {
   "cell_type": "code",
   "execution_count": 2,
   "metadata": {},
   "outputs": [],
   "source": [
    "from mypgm.base import Factor, CPD, RandomVar\n",
    "from mypgm.exacted import ExpectedUtility, ArcInversion\n",
    "from mypgm.pgms import InfluenceDiagram"
   ]
  },
  {
   "cell_type": "code",
   "execution_count": 3,
   "metadata": {},
   "outputs": [],
   "source": [
    "A = RandomVar('CT Results', k=3)\n",
    "B = RandomVar('Mediastinal Metastases', k=2)\n",
    "C = RandomVar('Mediastinoscopy Results', k=3)\n",
    "D = RandomVar('Treatments Death', k=2) #survive/died\n",
    "E = RandomVar('Mediastinoscopy Death', k=2) #survive/died\n",
    "\n",
    "F = RandomVar('CT', k=2, mod='decision')\n",
    "G = RandomVar('Treatment', k=2, mod='decision') #thoracotomy/radio\n",
    "H = RandomVar('Mediastinoscopy?', k=2, mod='decision')\n",
    "\n",
    "cA_FB = Factor([A, F, B], values=[0, 0,  0.19, 0.82, 0, 0, 0.81, 0.18, 1, 1, 0, 0])\n",
    "#cA_FB.to_dataframe()\n",
    "cB = Factor([B], [0.52, 0.46])\n",
    "cC_BH = Factor([C, B, H], [0, 0, 0.005, 0.82, 0, 0, 0.995, 0.18, 1, 1, 0, 0])\n",
    "cD_G = Factor([D, G], [0.963,  0.998, 0.037, 0.002])\n",
    "cE_H = Factor([E, H], [1, 0.995, 0, 0.005])\n",
    "\n",
    "dF = Factor([F])\n",
    "dG = Factor([G, A, C, E, F, H])\n",
    "dH = Factor([H, A, F])\n",
    "# important: no forgetting arcs in decision also for utility node\n",
    "LifeExperience = Factor([E, D, G, B, F, H], [4.45, 4.45, 4.45, 1.8, 1.8, 1.8, 2.64, 2.64, 2.64, 1.8, 1.8, 1.8, 0, 0, 0, 0, 0, 0, 0, 0, 0, 0, 0, 0, 0, 0, 0, 0, 0, 0, 0, 0, 0, 0, 0, 0, 0, 0, 0, 0, 0, 0, 0, 0, 0, 0, 0, 0, 0, 0, 0, 0, 0, 0, 0, 0, 0, 0, 0, 0, 0, 0, 0, 0], mod='utility')\n",
    "#LifeExperience.to_dataframe()\n",
    "dg = InfluenceDiagram([cA_FB, cC_BH, cD_G, cE_H, cB], [LifeExperience], [dF, dG, dH])"
   ]
  },
  {
   "cell_type": "code",
   "execution_count": 5,
   "metadata": {},
   "outputs": [
    {
     "output_type": "execute_result",
     "data": {
      "text/plain": [
       "                       Treatments Death=0,Treatment=0,Mediastinal Metastases=0,CT=0,Mediastinoscopy?=0  \\\n",
       "Mediastinoscopy Death                                                                                    \n",
       "0                                                                   4.45                                 \n",
       "1                                                                   0.00                                 \n",
       "\n",
       "                       Treatments Death=0,Treatment=0,Mediastinal Metastases=0,CT=0,Mediastinoscopy?=1  \\\n",
       "Mediastinoscopy Death                                                                                    \n",
       "0                                                                   4.45                                 \n",
       "1                                                                   0.00                                 \n",
       "\n",
       "                       Treatments Death=0,Treatment=0,Mediastinal Metastases=0,CT=1,Mediastinoscopy?=0  \\\n",
       "Mediastinoscopy Death                                                                                    \n",
       "0                                                                   4.45                                 \n",
       "1                                                                   0.00                                 \n",
       "\n",
       "                       Treatments Death=0,Treatment=0,Mediastinal Metastases=0,CT=1,Mediastinoscopy?=1  \\\n",
       "Mediastinoscopy Death                                                                                    \n",
       "0                                                                    1.8                                 \n",
       "1                                                                    0.0                                 \n",
       "\n",
       "                       Treatments Death=0,Treatment=0,Mediastinal Metastases=1,CT=0,Mediastinoscopy?=0  \\\n",
       "Mediastinoscopy Death                                                                                    \n",
       "0                                                                    1.8                                 \n",
       "1                                                                    0.0                                 \n",
       "\n",
       "                       Treatments Death=0,Treatment=0,Mediastinal Metastases=1,CT=0,Mediastinoscopy?=1  \\\n",
       "Mediastinoscopy Death                                                                                    \n",
       "0                                                                    1.8                                 \n",
       "1                                                                    0.0                                 \n",
       "\n",
       "                       Treatments Death=0,Treatment=0,Mediastinal Metastases=1,CT=1,Mediastinoscopy?=0  \\\n",
       "Mediastinoscopy Death                                                                                    \n",
       "0                                                                   2.64                                 \n",
       "1                                                                   0.00                                 \n",
       "\n",
       "                       Treatments Death=0,Treatment=0,Mediastinal Metastases=1,CT=1,Mediastinoscopy?=1  \\\n",
       "Mediastinoscopy Death                                                                                    \n",
       "0                                                                   2.64                                 \n",
       "1                                                                   0.00                                 \n",
       "\n",
       "                       Treatments Death=0,Treatment=1,Mediastinal Metastases=0,CT=0,Mediastinoscopy?=0  \\\n",
       "Mediastinoscopy Death                                                                                    \n",
       "0                                                                   2.64                                 \n",
       "1                                                                   0.00                                 \n",
       "\n",
       "                       Treatments Death=0,Treatment=1,Mediastinal Metastases=0,CT=0,Mediastinoscopy?=1  \\\n",
       "Mediastinoscopy Death                                                                                    \n",
       "0                                                                    1.8                                 \n",
       "1                                                                    0.0                                 \n",
       "\n",
       "                       ...  \\\n",
       "Mediastinoscopy Death  ...   \n",
       "0                      ...   \n",
       "1                      ...   \n",
       "\n",
       "                       Treatments Death=1,Treatment=0,Mediastinal Metastases=1,CT=1,Mediastinoscopy?=0  \\\n",
       "Mediastinoscopy Death                                                                                    \n",
       "0                                                                    0.0                                 \n",
       "1                                                                    0.0                                 \n",
       "\n",
       "                       Treatments Death=1,Treatment=0,Mediastinal Metastases=1,CT=1,Mediastinoscopy?=1  \\\n",
       "Mediastinoscopy Death                                                                                    \n",
       "0                                                                    0.0                                 \n",
       "1                                                                    0.0                                 \n",
       "\n",
       "                       Treatments Death=1,Treatment=1,Mediastinal Metastases=0,CT=0,Mediastinoscopy?=0  \\\n",
       "Mediastinoscopy Death                                                                                    \n",
       "0                                                                    0.0                                 \n",
       "1                                                                    0.0                                 \n",
       "\n",
       "                       Treatments Death=1,Treatment=1,Mediastinal Metastases=0,CT=0,Mediastinoscopy?=1  \\\n",
       "Mediastinoscopy Death                                                                                    \n",
       "0                                                                    0.0                                 \n",
       "1                                                                    0.0                                 \n",
       "\n",
       "                       Treatments Death=1,Treatment=1,Mediastinal Metastases=0,CT=1,Mediastinoscopy?=0  \\\n",
       "Mediastinoscopy Death                                                                                    \n",
       "0                                                                    0.0                                 \n",
       "1                                                                    0.0                                 \n",
       "\n",
       "                       Treatments Death=1,Treatment=1,Mediastinal Metastases=0,CT=1,Mediastinoscopy?=1  \\\n",
       "Mediastinoscopy Death                                                                                    \n",
       "0                                                                    0.0                                 \n",
       "1                                                                    0.0                                 \n",
       "\n",
       "                       Treatments Death=1,Treatment=1,Mediastinal Metastases=1,CT=0,Mediastinoscopy?=0  \\\n",
       "Mediastinoscopy Death                                                                                    \n",
       "0                                                                    0.0                                 \n",
       "1                                                                    0.0                                 \n",
       "\n",
       "                       Treatments Death=1,Treatment=1,Mediastinal Metastases=1,CT=0,Mediastinoscopy?=1  \\\n",
       "Mediastinoscopy Death                                                                                    \n",
       "0                                                                    0.0                                 \n",
       "1                                                                    0.0                                 \n",
       "\n",
       "                       Treatments Death=1,Treatment=1,Mediastinal Metastases=1,CT=1,Mediastinoscopy?=0  \\\n",
       "Mediastinoscopy Death                                                                                    \n",
       "0                                                                    0.0                                 \n",
       "1                                                                    0.0                                 \n",
       "\n",
       "                       Treatments Death=1,Treatment=1,Mediastinal Metastases=1,CT=1,Mediastinoscopy?=1  \n",
       "Mediastinoscopy Death                                                                                   \n",
       "0                                                                    0.0                                \n",
       "1                                                                    0.0                                \n",
       "\n",
       "[2 rows x 32 columns]"
      ],
      "text/html": "<div>\n<style scoped>\n    .dataframe tbody tr th:only-of-type {\n        vertical-align: middle;\n    }\n\n    .dataframe tbody tr th {\n        vertical-align: top;\n    }\n\n    .dataframe thead th {\n        text-align: right;\n    }\n</style>\n<table border=\"1\" class=\"dataframe\">\n  <thead>\n    <tr style=\"text-align: right;\">\n      <th></th>\n      <th>Treatments Death=0,Treatment=0,Mediastinal Metastases=0,CT=0,Mediastinoscopy?=0</th>\n      <th>Treatments Death=0,Treatment=0,Mediastinal Metastases=0,CT=0,Mediastinoscopy?=1</th>\n      <th>Treatments Death=0,Treatment=0,Mediastinal Metastases=0,CT=1,Mediastinoscopy?=0</th>\n      <th>Treatments Death=0,Treatment=0,Mediastinal Metastases=0,CT=1,Mediastinoscopy?=1</th>\n      <th>Treatments Death=0,Treatment=0,Mediastinal Metastases=1,CT=0,Mediastinoscopy?=0</th>\n      <th>Treatments Death=0,Treatment=0,Mediastinal Metastases=1,CT=0,Mediastinoscopy?=1</th>\n      <th>Treatments Death=0,Treatment=0,Mediastinal Metastases=1,CT=1,Mediastinoscopy?=0</th>\n      <th>Treatments Death=0,Treatment=0,Mediastinal Metastases=1,CT=1,Mediastinoscopy?=1</th>\n      <th>Treatments Death=0,Treatment=1,Mediastinal Metastases=0,CT=0,Mediastinoscopy?=0</th>\n      <th>Treatments Death=0,Treatment=1,Mediastinal Metastases=0,CT=0,Mediastinoscopy?=1</th>\n      <th>...</th>\n      <th>Treatments Death=1,Treatment=0,Mediastinal Metastases=1,CT=1,Mediastinoscopy?=0</th>\n      <th>Treatments Death=1,Treatment=0,Mediastinal Metastases=1,CT=1,Mediastinoscopy?=1</th>\n      <th>Treatments Death=1,Treatment=1,Mediastinal Metastases=0,CT=0,Mediastinoscopy?=0</th>\n      <th>Treatments Death=1,Treatment=1,Mediastinal Metastases=0,CT=0,Mediastinoscopy?=1</th>\n      <th>Treatments Death=1,Treatment=1,Mediastinal Metastases=0,CT=1,Mediastinoscopy?=0</th>\n      <th>Treatments Death=1,Treatment=1,Mediastinal Metastases=0,CT=1,Mediastinoscopy?=1</th>\n      <th>Treatments Death=1,Treatment=1,Mediastinal Metastases=1,CT=0,Mediastinoscopy?=0</th>\n      <th>Treatments Death=1,Treatment=1,Mediastinal Metastases=1,CT=0,Mediastinoscopy?=1</th>\n      <th>Treatments Death=1,Treatment=1,Mediastinal Metastases=1,CT=1,Mediastinoscopy?=0</th>\n      <th>Treatments Death=1,Treatment=1,Mediastinal Metastases=1,CT=1,Mediastinoscopy?=1</th>\n    </tr>\n    <tr>\n      <th>Mediastinoscopy Death</th>\n      <th></th>\n      <th></th>\n      <th></th>\n      <th></th>\n      <th></th>\n      <th></th>\n      <th></th>\n      <th></th>\n      <th></th>\n      <th></th>\n      <th></th>\n      <th></th>\n      <th></th>\n      <th></th>\n      <th></th>\n      <th></th>\n      <th></th>\n      <th></th>\n      <th></th>\n      <th></th>\n      <th></th>\n    </tr>\n  </thead>\n  <tbody>\n    <tr>\n      <td>0</td>\n      <td>4.45</td>\n      <td>4.45</td>\n      <td>4.45</td>\n      <td>1.8</td>\n      <td>1.8</td>\n      <td>1.8</td>\n      <td>2.64</td>\n      <td>2.64</td>\n      <td>2.64</td>\n      <td>1.8</td>\n      <td>...</td>\n      <td>0.0</td>\n      <td>0.0</td>\n      <td>0.0</td>\n      <td>0.0</td>\n      <td>0.0</td>\n      <td>0.0</td>\n      <td>0.0</td>\n      <td>0.0</td>\n      <td>0.0</td>\n      <td>0.0</td>\n    </tr>\n    <tr>\n      <td>1</td>\n      <td>0.00</td>\n      <td>0.00</td>\n      <td>0.00</td>\n      <td>0.0</td>\n      <td>0.0</td>\n      <td>0.0</td>\n      <td>0.00</td>\n      <td>0.00</td>\n      <td>0.00</td>\n      <td>0.0</td>\n      <td>...</td>\n      <td>0.0</td>\n      <td>0.0</td>\n      <td>0.0</td>\n      <td>0.0</td>\n      <td>0.0</td>\n      <td>0.0</td>\n      <td>0.0</td>\n      <td>0.0</td>\n      <td>0.0</td>\n      <td>0.0</td>\n    </tr>\n  </tbody>\n</table>\n<p>2 rows × 32 columns</p>\n</div>"
     },
     "metadata": {},
     "execution_count": 5
    }
   ],
   "source": [
    "LifeExperience.to_dataframe()"
   ]
  },
  {
   "cell_type": "code",
   "execution_count": 3,
   "metadata": {},
   "outputs": [
    {
     "output_type": "execute_result",
     "data": {
      "text/plain": [
       "<graphviz.dot.Digraph at 0x134322150>"
      ],
      "image/svg+xml": "<?xml version=\"1.0\" encoding=\"UTF-8\" standalone=\"no\"?>\n<!DOCTYPE svg PUBLIC \"-//W3C//DTD SVG 1.1//EN\"\n \"http://www.w3.org/Graphics/SVG/1.1/DTD/svg11.dtd\">\n<!-- Generated by graphviz version 2.40.1 (20161225.0304)\n -->\n<!-- Title: G Pages: 1 -->\n<svg width=\"652pt\" height=\"476pt\"\n viewBox=\"0.00 0.00 652.19 476.00\" xmlns=\"http://www.w3.org/2000/svg\" xmlns:xlink=\"http://www.w3.org/1999/xlink\">\n<g id=\"graph0\" class=\"graph\" transform=\"scale(1 1) rotate(0) translate(4 472)\">\n<title>G</title>\n<polygon fill=\"#ffffff\" stroke=\"transparent\" points=\"-4,4 -4,-472 648.1915,-472 648.1915,4 -4,4\"/>\n<!-- CT Results -->\n<g id=\"node1\" class=\"node\">\n<title>CT Results</title>\n<ellipse fill=\"none\" stroke=\"#000000\" cx=\"469\" cy=\"-378\" rx=\"51.1914\" ry=\"18\"/>\n<text text-anchor=\"middle\" x=\"469\" y=\"-374.3\" font-family=\"Times,serif\" font-size=\"14.00\" fill=\"#000000\">CT Results</text>\n</g>\n<!-- Mediastinoscopy? -->\n<g id=\"node5\" class=\"node\">\n<title>Mediastinoscopy?</title>\n<polygon fill=\"none\" stroke=\"#000000\" points=\"379,-324 261,-324 261,-288 379,-288 379,-324\"/>\n<text text-anchor=\"middle\" x=\"320\" y=\"-302.3\" font-family=\"Times,serif\" font-size=\"14.00\" fill=\"#000000\">Mediastinoscopy?</text>\n</g>\n<!-- CT Results&#45;&gt;Mediastinoscopy? -->\n<g id=\"edge12\" class=\"edge\">\n<title>CT Results&#45;&gt;Mediastinoscopy?</title>\n<path fill=\"none\" stroke=\"#000000\" d=\"M438.8476,-363.4297C418.1282,-353.4176 390.2134,-339.9286 366.6441,-328.5394\"/>\n<polygon fill=\"#000000\" stroke=\"#000000\" points=\"368.0415,-325.3275 357.5148,-324.128 364.9959,-331.6303 368.0415,-325.3275\"/>\n</g>\n<!-- Treatment -->\n<g id=\"node7\" class=\"node\">\n<title>Treatment</title>\n<polygon fill=\"none\" stroke=\"#000000\" points=\"406,-180 332,-180 332,-144 406,-144 406,-180\"/>\n<text text-anchor=\"middle\" x=\"369\" y=\"-158.3\" font-family=\"Times,serif\" font-size=\"14.00\" fill=\"#000000\">Treatment</text>\n</g>\n<!-- CT Results&#45;&gt;Treatment -->\n<g id=\"edge7\" class=\"edge\">\n<title>CT Results&#45;&gt;Treatment</title>\n<path fill=\"none\" stroke=\"#000000\" d=\"M491.1824,-361.5161C529.2416,-331.2379 599.4362,-265.3483 562,-216 544.4049,-192.8062 467.3431,-176.8608 416.0782,-168.5983\"/>\n<polygon fill=\"#000000\" stroke=\"#000000\" points=\"416.616,-165.1399 406.1945,-167.0484 415.5315,-172.0554 416.616,-165.1399\"/>\n</g>\n<!-- CT -->\n<g id=\"node2\" class=\"node\">\n<title>CT</title>\n<polygon fill=\"none\" stroke=\"#000000\" points=\"390,-468 336,-468 336,-432 390,-432 390,-468\"/>\n<text text-anchor=\"middle\" x=\"363\" y=\"-446.3\" font-family=\"Times,serif\" font-size=\"14.00\" fill=\"#000000\">CT</text>\n</g>\n<!-- CT&#45;&gt;CT Results -->\n<g id=\"edge1\" class=\"edge\">\n<title>CT&#45;&gt;CT Results</title>\n<path fill=\"none\" stroke=\"#000000\" d=\"M389.7483,-431.8314C404.0011,-422.1502 421.6425,-410.1673 436.6602,-399.9667\"/>\n<polygon fill=\"#000000\" stroke=\"#000000\" points=\"438.8482,-402.7116 445.1537,-394.1975 434.9149,-396.9211 438.8482,-402.7116\"/>\n</g>\n<!-- CT&#45;&gt;Mediastinoscopy? -->\n<g id=\"edge13\" class=\"edge\">\n<title>CT&#45;&gt;Mediastinoscopy?</title>\n<path fill=\"none\" stroke=\"#000000\" d=\"M357.554,-431.7623C350.1874,-407.0928 336.979,-362.8598 328.3531,-333.9731\"/>\n<polygon fill=\"#000000\" stroke=\"#000000\" points=\"331.6168,-332.6701 325.4018,-324.0896 324.9094,-334.673 331.6168,-332.6701\"/>\n</g>\n<!-- CT&#45;&gt;Treatment -->\n<g id=\"edge10\" class=\"edge\">\n<title>CT&#45;&gt;Treatment</title>\n<path fill=\"none\" stroke=\"#000000\" d=\"M369.901,-431.9761C377.6879,-412.9647 391.571,-382.6791 409,-360 459.7644,-293.9438 577.5852,-283.6751 529,-216 515.5458,-197.2593 458.1622,-181.152 415.9478,-171.5232\"/>\n<polygon fill=\"#000000\" stroke=\"#000000\" points=\"416.6395,-168.0916 406.1178,-169.3343 415.118,-174.9243 416.6395,-168.0916\"/>\n</g>\n<!-- Utility0 -->\n<g id=\"node9\" class=\"node\">\n<title>Utility0</title>\n<polygon fill=\"none\" stroke=\"#000000\" points=\"214,-36 158.7007,-18 214,0 269.2993,-18 214,-36\"/>\n<text text-anchor=\"middle\" x=\"214\" y=\"-14.3\" font-family=\"Times,serif\" font-size=\"14.00\" fill=\"#000000\">Utility0</text>\n</g>\n<!-- CT&#45;&gt;Utility0 -->\n<g id=\"edge18\" class=\"edge\">\n<title>CT&#45;&gt;Utility0</title>\n<path fill=\"none\" stroke=\"#000000\" d=\"M335.716,-445.2881C251.2962,-429.9442 0,-378.2053 0,-306 0,-306 0,-306 0,-162 0,-81.191 106.3328,-42.7553 169.0907,-27.1077\"/>\n<polygon fill=\"#000000\" stroke=\"#000000\" points=\"170.23,-30.4339 179.1409,-24.7028 168.6009,-23.6261 170.23,-30.4339\"/>\n</g>\n<!-- Mediastinal Metastases -->\n<g id=\"node3\" class=\"node\">\n<title>Mediastinal Metastases</title>\n<ellipse fill=\"none\" stroke=\"#000000\" cx=\"548\" cy=\"-450\" rx=\"96.3833\" ry=\"18\"/>\n<text text-anchor=\"middle\" x=\"548\" y=\"-446.3\" font-family=\"Times,serif\" font-size=\"14.00\" fill=\"#000000\">Mediastinal Metastases</text>\n</g>\n<!-- Mediastinal Metastases&#45;&gt;CT Results -->\n<g id=\"edge2\" class=\"edge\">\n<title>Mediastinal Metastases&#45;&gt;CT Results</title>\n<path fill=\"none\" stroke=\"#000000\" d=\"M528.4719,-432.2022C518.3976,-423.0206 505.9712,-411.6952 495.0867,-401.7752\"/>\n<polygon fill=\"#000000\" stroke=\"#000000\" points=\"497.2378,-399.0002 487.4893,-394.851 492.5226,-404.1739 497.2378,-399.0002\"/>\n</g>\n<!-- Mediastinoscopy Results -->\n<g id=\"node4\" class=\"node\">\n<title>Mediastinoscopy Results</title>\n<ellipse fill=\"none\" stroke=\"#000000\" cx=\"418\" cy=\"-234\" rx=\"102.0819\" ry=\"18\"/>\n<text text-anchor=\"middle\" x=\"418\" y=\"-230.3\" font-family=\"Times,serif\" font-size=\"14.00\" fill=\"#000000\">Mediastinoscopy Results</text>\n</g>\n<!-- Mediastinal Metastases&#45;&gt;Mediastinoscopy Results -->\n<g id=\"edge3\" class=\"edge\">\n<title>Mediastinal Metastases&#45;&gt;Mediastinoscopy Results</title>\n<path fill=\"none\" stroke=\"#000000\" d=\"M546.8896,-431.8604C545.1301,-413.0209 540.6037,-383.1221 529,-360 508.7363,-319.6218 472.3304,-281.9572 446.7511,-258.5172\"/>\n<polygon fill=\"#000000\" stroke=\"#000000\" points=\"448.9644,-255.8004 439.1901,-251.7122 444.2815,-261.0035 448.9644,-255.8004\"/>\n</g>\n<!-- Mediastinal Metastases&#45;&gt;Utility0 -->\n<g id=\"edge17\" class=\"edge\">\n<title>Mediastinal Metastases&#45;&gt;Utility0</title>\n<path fill=\"none\" stroke=\"#000000\" d=\"M564.8669,-432.0553C587.2571,-406.2804 624,-356.3175 624,-306 624,-306 624,-306 624,-162 624,-86.3564 372.4247,-40.8617 263.4046,-24.6979\"/>\n<polygon fill=\"#000000\" stroke=\"#000000\" points=\"263.7131,-21.206 253.3125,-23.2252 262.7023,-28.1326 263.7131,-21.206\"/>\n</g>\n<!-- Mediastinoscopy Results&#45;&gt;Treatment -->\n<g id=\"edge8\" class=\"edge\">\n<title>Mediastinoscopy Results&#45;&gt;Treatment</title>\n<path fill=\"none\" stroke=\"#000000\" d=\"M405.6352,-215.8314C400.0491,-207.6232 393.337,-197.7606 387.1928,-188.7323\"/>\n<polygon fill=\"#000000\" stroke=\"#000000\" points=\"390.051,-186.7112 381.5313,-180.4133 384.264,-190.6496 390.051,-186.7112\"/>\n</g>\n<!-- Mediastinoscopy?&#45;&gt;Mediastinoscopy Results -->\n<g id=\"edge4\" class=\"edge\">\n<title>Mediastinoscopy?&#45;&gt;Mediastinoscopy Results</title>\n<path fill=\"none\" stroke=\"#000000\" d=\"M344.7295,-287.8314C357.1022,-278.7412 372.2369,-267.6219 385.5322,-257.8539\"/>\n<polygon fill=\"#000000\" stroke=\"#000000\" points=\"387.9694,-260.4064 393.9559,-251.665 383.8248,-254.7652 387.9694,-260.4064\"/>\n</g>\n<!-- Mediastinoscopy?&#45;&gt;Treatment -->\n<g id=\"edge11\" class=\"edge\">\n<title>Mediastinoscopy?&#45;&gt;Treatment</title>\n<path fill=\"none\" stroke=\"#000000\" d=\"M311.7436,-287.9233C304.4254,-269.1351 296.4053,-239.2775 307,-216 312.174,-204.6322 321.0543,-194.7268 330.5028,-186.6122\"/>\n<polygon fill=\"#000000\" stroke=\"#000000\" points=\"332.8729,-189.1986 338.5042,-180.2243 328.5055,-183.7281 332.8729,-189.1986\"/>\n</g>\n<!-- Mediastinoscopy Death -->\n<g id=\"node8\" class=\"node\">\n<title>Mediastinoscopy Death</title>\n<ellipse fill=\"none\" stroke=\"#000000\" cx=\"163\" cy=\"-234\" rx=\"96.6831\" ry=\"18\"/>\n<text text-anchor=\"middle\" x=\"163\" y=\"-230.3\" font-family=\"Times,serif\" font-size=\"14.00\" fill=\"#000000\">Mediastinoscopy Death</text>\n</g>\n<!-- Mediastinoscopy?&#45;&gt;Mediastinoscopy Death -->\n<g id=\"edge6\" class=\"edge\">\n<title>Mediastinoscopy?&#45;&gt;Mediastinoscopy Death</title>\n<path fill=\"none\" stroke=\"#000000\" d=\"M280.3823,-287.8314C258.5062,-277.799 231.2404,-265.295 208.4947,-254.8638\"/>\n<polygon fill=\"#000000\" stroke=\"#000000\" points=\"209.9253,-251.6694 199.3765,-250.6822 207.0073,-258.0322 209.9253,-251.6694\"/>\n</g>\n<!-- Mediastinoscopy?&#45;&gt;Utility0 -->\n<g id=\"edge19\" class=\"edge\">\n<title>Mediastinoscopy?&#45;&gt;Utility0</title>\n<path fill=\"none\" stroke=\"#000000\" d=\"M260.9061,-302.3333C191.3907,-296.6434 82.2246,-282.93 57,-252 -4.9065,-176.0912 126.0609,-75.7823 186.0712,-35.6746\"/>\n<polygon fill=\"#000000\" stroke=\"#000000\" points=\"188.287,-38.4063 194.7163,-29.9852 184.4389,-32.5589 188.287,-38.4063\"/>\n</g>\n<!-- Treatments Death -->\n<g id=\"node6\" class=\"node\">\n<title>Treatments Death</title>\n<ellipse fill=\"none\" stroke=\"#000000\" cx=\"266\" cy=\"-90\" rx=\"75.2868\" ry=\"18\"/>\n<text text-anchor=\"middle\" x=\"266\" y=\"-86.3\" font-family=\"Times,serif\" font-size=\"14.00\" fill=\"#000000\">Treatments Death</text>\n</g>\n<!-- Treatments Death&#45;&gt;Utility0 -->\n<g id=\"edge15\" class=\"edge\">\n<title>Treatments Death&#45;&gt;Utility0</title>\n<path fill=\"none\" stroke=\"#000000\" d=\"M253.1461,-72.2022C246.3537,-62.7974 237.9369,-51.1434 230.6504,-41.0543\"/>\n<polygon fill=\"#000000\" stroke=\"#000000\" points=\"233.2996,-38.7445 224.6072,-32.6869 227.6248,-42.843 233.2996,-38.7445\"/>\n</g>\n<!-- Treatment&#45;&gt;Treatments Death -->\n<g id=\"edge5\" class=\"edge\">\n<title>Treatment&#45;&gt;Treatments Death</title>\n<path fill=\"none\" stroke=\"#000000\" d=\"M343.0088,-143.8314C329.6836,-134.5167 313.3102,-123.0712 299.0923,-113.1325\"/>\n<polygon fill=\"#000000\" stroke=\"#000000\" points=\"300.7661,-110.0322 290.5647,-107.1715 296.7555,-115.7694 300.7661,-110.0322\"/>\n</g>\n<!-- Treatment&#45;&gt;Utility0 -->\n<g id=\"edge16\" class=\"edge\">\n<title>Treatment&#45;&gt;Utility0</title>\n<path fill=\"none\" stroke=\"#000000\" d=\"M369.9417,-143.9654C370.003,-124.0932 367.0867,-92.2678 350,-72 328.3218,-46.2858 292.6928,-32.7258 263.3402,-25.626\"/>\n<polygon fill=\"#000000\" stroke=\"#000000\" points=\"263.775,-22.137 253.2527,-23.3748 262.2503,-28.969 263.775,-22.137\"/>\n</g>\n<!-- Mediastinoscopy Death&#45;&gt;Treatment -->\n<g id=\"edge9\" class=\"edge\">\n<title>Mediastinoscopy Death&#45;&gt;Treatment</title>\n<path fill=\"none\" stroke=\"#000000\" d=\"M208.7181,-218.0209C242.4858,-206.2185 288.2975,-190.2067 322.2965,-178.3235\"/>\n<polygon fill=\"#000000\" stroke=\"#000000\" points=\"323.7115,-181.5367 331.9967,-174.9332 321.4018,-174.9287 323.7115,-181.5367\"/>\n</g>\n<!-- Mediastinoscopy Death&#45;&gt;Utility0 -->\n<g id=\"edge14\" class=\"edge\">\n<title>Mediastinoscopy Death&#45;&gt;Utility0</title>\n<path fill=\"none\" stroke=\"#000000\" d=\"M162.7024,-215.9713C162.724,-185.4842 165.0485,-122.1677 182,-72 185.6106,-61.3146 191.5322,-50.4428 197.3061,-41.2818\"/>\n<polygon fill=\"#000000\" stroke=\"#000000\" points=\"200.3439,-43.0333 202.9396,-32.7614 194.5048,-39.1726 200.3439,-43.0333\"/>\n</g>\n</g>\n</svg>\n"
     },
     "metadata": {},
     "execution_count": 3
    }
   ],
   "source": [
    "dg.viz()"
   ]
  },
  {
   "cell_type": "code",
   "execution_count": 5,
   "metadata": {},
   "outputs": [],
   "source": [
    "ai = ArcInversion(dg)"
   ]
  },
  {
   "cell_type": "code",
   "execution_count": 6,
   "metadata": {},
   "outputs": [
    {
     "output_type": "stream",
     "name": "stdout",
     "text": [
      "Regular ID\nStart:\nChance node to remove: Treatments Death\nRemoved chance node: Treatments Death\nChance node to remove: None\nDecision node to remove: None\n[Treatment, Mediastinoscopy?]\n[Treatment]\n['u0', Treatment]\n[CT Results, Mediastinoscopy Results, 'u0']\nNode to reverse: Mediastinal Metastases\nArc reversed for: Mediastinal Metastases\nArc reversed for: Mediastinal Metastases\nRemoved node: Mediastinal Metastases\nChance node to remove: None\nDecision node to remove: Treatment\nRemoved decision node: Treatment\nChance node to remove: Mediastinoscopy Results\nRemoved chance node: Mediastinoscopy Results\nChance node to remove: Mediastinoscopy Death\nRemoved chance node: Mediastinoscopy Death\nChance node to remove: None\nDecision node to remove: Mediastinoscopy?\nRemoved decision node: Mediastinoscopy?\nChance node to remove: CT Results\nRemoved chance node: CT Results\nChance node to remove: None\nDecision node to remove: CT\nRemoved decision node: CT\n"
     ]
    },
    {
     "output_type": "execute_result",
     "data": {
      "text/plain": [
       "(<mypgm.pgms.InfluenceDiagram at 0x12fe2f750>,\n",
       " [Treatment CT Results Mediastinoscopy Results Mediastinoscopy Death CT Mediastinoscopy? \n",
       "  (0, 0, 0, 0, 0, 0) -> 1.0\n",
       "  (0, 0, 0, 0, 0, 1) -> 1.0\n",
       "  (0, 0, 0, 0, 1, 0) -> 1.0\n",
       "  (0, 0, 0, 0, 1, 1) -> 1.0\n",
       "  (0, 0, 0, 1, 0, 0) -> 1.0\n",
       "  (0, 0, 0, 1, 0, 1) -> 1.0\n",
       "  (0, 0, 0, 1, 1, 0) -> 1.0\n",
       "  (0, 0, 0, 1, 1, 1) -> 1.0\n",
       "  (0, 0, 1, 0, 0, 0) -> 1.0\n",
       "  (0, 0, 1, 0, 0, 1) -> 1.0\n",
       "  (0, 0, 1, 0, 1, 0) -> 1.0\n",
       "  (0, 0, 1, 0, 1, 1) -> 1.0\n",
       "  (0, 0, 1, 1, 0, 0) -> 1.0\n",
       "  (0, 0, 1, 1, 0, 1) -> 1.0\n",
       "  (0, 0, 1, 1, 1, 0) -> 1.0\n",
       "  (0, 0, 1, 1, 1, 1) -> 1.0\n",
       "  (0, 0, 2, 0, 0, 0) -> 1.0\n",
       "  (0, 0, 2, 0, 0, 1) -> 1.0\n",
       "  (0, 0, 2, 0, 1, 0) -> 1.0\n",
       "  (0, 0, 2, 0, 1, 1) -> 0.0\n",
       "  (0, 0, 2, 1, 0, 0) -> 1.0\n",
       "  (0, 0, 2, 1, 0, 1) -> 1.0\n",
       "  (0, 0, 2, 1, 1, 0) -> 1.0\n",
       "  (0, 0, 2, 1, 1, 1) -> 1.0\n",
       "  (0, 1, 0, 0, 0, 0) -> 1.0\n",
       "  (0, 1, 0, 0, 0, 1) -> 1.0\n",
       "  (0, 1, 0, 0, 1, 0) -> 1.0\n",
       "  (0, 1, 0, 0, 1, 1) -> 1.0\n",
       "  (0, 1, 0, 1, 0, 0) -> 1.0\n",
       "  (0, 1, 0, 1, 0, 1) -> 1.0\n",
       "  (0, 1, 0, 1, 1, 0) -> 1.0\n",
       "  (0, 1, 0, 1, 1, 1) -> 1.0\n",
       "  (0, 1, 1, 0, 0, 0) -> 1.0\n",
       "  (0, 1, 1, 0, 0, 1) -> 1.0\n",
       "  (0, 1, 1, 0, 1, 0) -> 1.0\n",
       "  (0, 1, 1, 0, 1, 1) -> 1.0\n",
       "  (0, 1, 1, 1, 0, 0) -> 1.0\n",
       "  (0, 1, 1, 1, 0, 1) -> 1.0\n",
       "  (0, 1, 1, 1, 1, 0) -> 1.0\n",
       "  (0, 1, 1, 1, 1, 1) -> 1.0\n",
       "  (0, 1, 2, 0, 0, 0) -> 1.0\n",
       "  (0, 1, 2, 0, 0, 1) -> 1.0\n",
       "  (0, 1, 2, 0, 1, 0) -> 1.0\n",
       "  (0, 1, 2, 0, 1, 1) -> 0.0\n",
       "  (0, 1, 2, 1, 0, 0) -> 1.0\n",
       "  (0, 1, 2, 1, 0, 1) -> 1.0\n",
       "  (0, 1, 2, 1, 1, 0) -> 1.0\n",
       "  (0, 1, 2, 1, 1, 1) -> 1.0\n",
       "  (0, 2, 0, 0, 0, 0) -> 1.0\n",
       "  (0, 2, 0, 0, 0, 1) -> 1.0\n",
       "  (0, 2, 0, 0, 1, 0) -> 1.0\n",
       "  (0, 2, 0, 0, 1, 1) -> 1.0\n",
       "  (0, 2, 0, 1, 0, 0) -> 1.0\n",
       "  (0, 2, 0, 1, 0, 1) -> 1.0\n",
       "  (0, 2, 0, 1, 1, 0) -> 1.0\n",
       "  (0, 2, 0, 1, 1, 1) -> 1.0\n",
       "  (0, 2, 1, 0, 0, 0) -> 1.0\n",
       "  (0, 2, 1, 0, 0, 1) -> 1.0\n",
       "  (0, 2, 1, 0, 1, 0) -> 1.0\n",
       "  (0, 2, 1, 0, 1, 1) -> 1.0\n",
       "  (0, 2, 1, 1, 0, 0) -> 1.0\n",
       "  (0, 2, 1, 1, 0, 1) -> 1.0\n",
       "  (0, 2, 1, 1, 1, 0) -> 1.0\n",
       "  (0, 2, 1, 1, 1, 1) -> 1.0\n",
       "  (0, 2, 2, 0, 0, 0) -> 1.0\n",
       "  (0, 2, 2, 0, 0, 1) -> 1.0\n",
       "  (0, 2, 2, 0, 1, 0) -> 1.0\n",
       "  (0, 2, 2, 0, 1, 1) -> 1.0\n",
       "  (0, 2, 2, 1, 0, 0) -> 1.0\n",
       "  (0, 2, 2, 1, 0, 1) -> 1.0\n",
       "  (0, 2, 2, 1, 1, 0) -> 1.0\n",
       "  (0, 2, 2, 1, 1, 1) -> 1.0\n",
       "  (1, 0, 0, 0, 0, 0) -> 0.0\n",
       "  (1, 0, 0, 0, 0, 1) -> 0.0\n",
       "  (1, 0, 0, 0, 1, 0) -> 0.0\n",
       "  (1, 0, 0, 0, 1, 1) -> 0.0\n",
       "  (1, 0, 0, 1, 0, 0) -> 0.0\n",
       "  (1, 0, 0, 1, 0, 1) -> 0.0\n",
       "  (1, 0, 0, 1, 1, 0) -> 0.0\n",
       "  (1, 0, 0, 1, 1, 1) -> 0.0\n",
       "  (1, 0, 1, 0, 0, 0) -> 0.0\n",
       "  (1, 0, 1, 0, 0, 1) -> 0.0\n",
       "  (1, 0, 1, 0, 1, 0) -> 0.0\n",
       "  (1, 0, 1, 0, 1, 1) -> 0.0\n",
       "  (1, 0, 1, 1, 0, 0) -> 0.0\n",
       "  (1, 0, 1, 1, 0, 1) -> 0.0\n",
       "  (1, 0, 1, 1, 1, 0) -> 0.0\n",
       "  (1, 0, 1, 1, 1, 1) -> 0.0\n",
       "  (1, 0, 2, 0, 0, 0) -> 0.0\n",
       "  (1, 0, 2, 0, 0, 1) -> 0.0\n",
       "  (1, 0, 2, 0, 1, 0) -> 0.0\n",
       "  (1, 0, 2, 0, 1, 1) -> 1.0\n",
       "  (1, 0, 2, 1, 0, 0) -> 0.0\n",
       "  (1, 0, 2, 1, 0, 1) -> 0.0\n",
       "  (1, 0, 2, 1, 1, 0) -> 0.0\n",
       "  (1, 0, 2, 1, 1, 1) -> 0.0\n",
       "  (1, 1, 0, 0, 0, 0) -> 0.0\n",
       "  (1, 1, 0, 0, 0, 1) -> 0.0\n",
       "  (1, 1, 0, 0, 1, 0) -> 0.0\n",
       "  (1, 1, 0, 0, 1, 1) -> 0.0\n",
       "  (1, 1, 0, 1, 0, 0) -> 0.0\n",
       "  (1, 1, 0, 1, 0, 1) -> 0.0\n",
       "  (1, 1, 0, 1, 1, 0) -> 0.0\n",
       "  (1, 1, 0, 1, 1, 1) -> 0.0\n",
       "  (1, 1, 1, 0, 0, 0) -> 0.0\n",
       "  (1, 1, 1, 0, 0, 1) -> 0.0\n",
       "  (1, 1, 1, 0, 1, 0) -> 0.0\n",
       "  (1, 1, 1, 0, 1, 1) -> 0.0\n",
       "  (1, 1, 1, 1, 0, 0) -> 0.0\n",
       "  (1, 1, 1, 1, 0, 1) -> 0.0\n",
       "  (1, 1, 1, 1, 1, 0) -> 0.0\n",
       "  (1, 1, 1, 1, 1, 1) -> 0.0\n",
       "  (1, 1, 2, 0, 0, 0) -> 0.0\n",
       "  (1, 1, 2, 0, 0, 1) -> 0.0\n",
       "  (1, 1, 2, 0, 1, 0) -> 0.0\n",
       "  (1, 1, 2, 0, 1, 1) -> 1.0\n",
       "  (1, 1, 2, 1, 0, 0) -> 0.0\n",
       "  (1, 1, 2, 1, 0, 1) -> 0.0\n",
       "  (1, 1, 2, 1, 1, 0) -> 0.0\n",
       "  (1, 1, 2, 1, 1, 1) -> 0.0\n",
       "  (1, 2, 0, 0, 0, 0) -> 0.0\n",
       "  (1, 2, 0, 0, 0, 1) -> 0.0\n",
       "  (1, 2, 0, 0, 1, 0) -> 0.0\n",
       "  (1, 2, 0, 0, 1, 1) -> 0.0\n",
       "  (1, 2, 0, 1, 0, 0) -> 0.0\n",
       "  (1, 2, 0, 1, 0, 1) -> 0.0\n",
       "  (1, 2, 0, 1, 1, 0) -> 0.0\n",
       "  (1, 2, 0, 1, 1, 1) -> 0.0\n",
       "  (1, 2, 1, 0, 0, 0) -> 0.0\n",
       "  (1, 2, 1, 0, 0, 1) -> 0.0\n",
       "  (1, 2, 1, 0, 1, 0) -> 0.0\n",
       "  (1, 2, 1, 0, 1, 1) -> 0.0\n",
       "  (1, 2, 1, 1, 0, 0) -> 0.0\n",
       "  (1, 2, 1, 1, 0, 1) -> 0.0\n",
       "  (1, 2, 1, 1, 1, 0) -> 0.0\n",
       "  (1, 2, 1, 1, 1, 1) -> 0.0\n",
       "  (1, 2, 2, 0, 0, 0) -> 0.0\n",
       "  (1, 2, 2, 0, 0, 1) -> 0.0\n",
       "  (1, 2, 2, 0, 1, 0) -> 0.0\n",
       "  (1, 2, 2, 0, 1, 1) -> 0.0\n",
       "  (1, 2, 2, 1, 0, 0) -> 0.0\n",
       "  (1, 2, 2, 1, 0, 1) -> 0.0\n",
       "  (1, 2, 2, 1, 1, 0) -> 0.0\n",
       "  (1, 2, 2, 1, 1, 1) -> 0.0,\n",
       "  Mediastinoscopy? CT Results CT \n",
       "  (0, 0, 0) -> 1.0\n",
       "  (0, 0, 1) -> 1.0\n",
       "  (0, 1, 0) -> 1.0\n",
       "  (0, 1, 1) -> 1.0\n",
       "  (0, 2, 0) -> 1.0\n",
       "  (0, 2, 1) -> 1.0\n",
       "  (1, 0, 0) -> 0.0\n",
       "  (1, 0, 1) -> 0.0\n",
       "  (1, 1, 0) -> 0.0\n",
       "  (1, 1, 1) -> 0.0\n",
       "  (1, 2, 0) -> 0.0\n",
       "  (1, 2, 1) -> 0.0,\n",
       "  CT \n",
       "  (0,) -> 0.0\n",
       "  (1,) -> 1.0],\n",
       " [CT \n",
       "  (0,) -> 3.0093750000000004\n",
       "  (1,) -> 3.413835])"
      ]
     },
     "metadata": {},
     "execution_count": 6
    }
   ],
   "source": [
    "ai.solve()"
   ]
  },
  {
   "cell_type": "code",
   "execution_count": 7,
   "metadata": {},
   "outputs": [
    {
     "output_type": "execute_result",
     "data": {
      "text/plain": [
       "[CT \n",
       " (0,) -> 3.0093750000000004\n",
       " (1,) -> 3.413835]"
      ]
     },
     "metadata": {},
     "execution_count": 7
    }
   ],
   "source": [
    "ai.gained_utility"
   ]
  },
  {
   "cell_type": "code",
   "execution_count": 7,
   "metadata": {},
   "outputs": [
    {
     "output_type": "execute_result",
     "data": {
      "text/plain": [
       "[CT Results CT Mediastinal Metastases \n",
       " (0, 0, 0) -> 0.0\n",
       " (0, 0, 1) -> 0.0\n",
       " (0, 1, 0) -> 0.19\n",
       " (0, 1, 1) -> 0.82\n",
       " (1, 0, 0) -> 0.0\n",
       " (1, 0, 1) -> 0.0\n",
       " (1, 1, 0) -> 0.81\n",
       " (1, 1, 1) -> 0.18\n",
       " (2, 0, 0) -> 1.0\n",
       " (2, 0, 1) -> 1.0\n",
       " (2, 1, 0) -> 0.0\n",
       " (2, 1, 1) -> 0.0,\n",
       " Mediastinoscopy Results Mediastinal Metastases Mediastinoscopy? \n",
       " (0, 0, 0) -> 0.0\n",
       " (0, 0, 1) -> 0.0\n",
       " (0, 1, 0) -> 0.005\n",
       " (0, 1, 1) -> 0.82\n",
       " (1, 0, 0) -> 0.0\n",
       " (1, 0, 1) -> 0.0\n",
       " (1, 1, 0) -> 0.995\n",
       " (1, 1, 1) -> 0.18\n",
       " (2, 0, 0) -> 1.0\n",
       " (2, 0, 1) -> 1.0\n",
       " (2, 1, 0) -> 0.0\n",
       " (2, 1, 1) -> 0.0,\n",
       " Mediastinoscopy Death Mediastinoscopy? \n",
       " (0, 0) -> 1.0\n",
       " (0, 1) -> 0.995\n",
       " (1, 0) -> 0.0\n",
       " (1, 1) -> 0.005,\n",
       " Mediastinal Metastases \n",
       " (0,) -> 0.52\n",
       " (1,) -> 0.46]"
      ]
     },
     "metadata": {},
     "execution_count": 7
    }
   ],
   "source": [
    "model.chance_factors"
   ]
  },
  {
   "cell_type": "code",
   "execution_count": 8,
   "metadata": {},
   "outputs": [
    {
     "output_type": "stream",
     "name": "stdout",
     "text": [
      "None\n"
     ]
    }
   ],
   "source": [
    "print(ai.find_decision_node(model))"
   ]
  },
  {
   "cell_type": "code",
   "execution_count": 24,
   "metadata": {},
   "outputs": [],
   "source": [
    "to_remove = ai.find_decision_node(model)\n",
    "if to_remove is not None:\n",
    "    model, decision = ai.remove_decision_node(model, to_remove)\n",
    "    print(decision)"
   ]
  },
  {
   "cell_type": "code",
   "execution_count": 25,
   "metadata": {},
   "outputs": [
    {
     "output_type": "execute_result",
     "data": {
      "text/plain": [
       "Treatments Death \n",
       "(0,) -> 1.0\n",
       "(1,) -> 0.0"
      ]
     },
     "metadata": {},
     "execution_count": 25
    }
   ],
   "source": [
    "decision"
   ]
  },
  {
   "cell_type": "code",
   "execution_count": null,
   "metadata": {},
   "outputs": [],
   "source": [
    "model = ai.barren_node_removal(model)"
   ]
  },
  {
   "cell_type": "code",
   "execution_count": 9,
   "metadata": {},
   "outputs": [
    {
     "output_type": "stream",
     "name": "stdout",
     "text": [
      "{Mediastinoscopy?, CT, Treatment}\nMediastinal Metastases\n[Mediastinoscopy Results, 'u0', CT Results]\nMediastinal Metastases\n"
     ]
    }
   ],
   "source": [
    "i = ai.find_node_no_ds(model)\n",
    "print(i)"
   ]
  },
  {
   "cell_type": "code",
   "execution_count": 15,
   "metadata": {},
   "outputs": [
    {
     "output_type": "execute_result",
     "data": {
      "text/plain": [
       "[]"
      ]
     },
     "metadata": {},
     "execution_count": 15
    }
   ],
   "source": [
    "list(set(model.nxg().successors(i)) & model.v_set)\n",
    "    "
   ]
  },
  {
   "cell_type": "code",
   "execution_count": 14,
   "metadata": {},
   "outputs": [
    {
     "output_type": "stream",
     "name": "stdout",
     "text": [
      "8\n7\n"
     ]
    }
   ],
   "source": [
    "model = ai.reverse_arc(i, model)"
   ]
  },
  {
   "cell_type": "code",
   "execution_count": 18,
   "metadata": {},
   "outputs": [
    {
     "output_type": "execute_result",
     "data": {
      "text/plain": [
       "<graphviz.dot.Digraph at 0x1381ef2d0>"
      ],
      "image/svg+xml": "<?xml version=\"1.0\" encoding=\"UTF-8\" standalone=\"no\"?>\n<!DOCTYPE svg PUBLIC \"-//W3C//DTD SVG 1.1//EN\"\n \"http://www.w3.org/Graphics/SVG/1.1/DTD/svg11.dtd\">\n<!-- Generated by graphviz version 2.40.1 (20161225.0304)\n -->\n<!-- Title: G Pages: 1 -->\n<svg width=\"513pt\" height=\"404pt\"\n viewBox=\"0.00 0.00 512.64 404.00\" xmlns=\"http://www.w3.org/2000/svg\" xmlns:xlink=\"http://www.w3.org/1999/xlink\">\n<g id=\"graph0\" class=\"graph\" transform=\"scale(1 1) rotate(0) translate(4 400)\">\n<title>G</title>\n<polygon fill=\"#ffffff\" stroke=\"transparent\" points=\"-4,4 -4,-400 508.6364,-400 508.6364,4 -4,4\"/>\n<!-- Mediastinoscopy Death -->\n<g id=\"node1\" class=\"node\">\n<title>Mediastinoscopy Death</title>\n<ellipse fill=\"none\" stroke=\"#000000\" cx=\"96.8414\" cy=\"-162\" rx=\"96.6831\" ry=\"18\"/>\n<text text-anchor=\"middle\" x=\"96.8414\" y=\"-158.3\" font-family=\"Times,serif\" font-size=\"14.00\" fill=\"#000000\">Mediastinoscopy Death</text>\n</g>\n<!-- Treatment -->\n<g id=\"node6\" class=\"node\">\n<title>Treatment</title>\n<polygon fill=\"none\" stroke=\"#000000\" points=\"415.8414,-108 341.8414,-108 341.8414,-72 415.8414,-72 415.8414,-108\"/>\n<text text-anchor=\"middle\" x=\"378.8414\" y=\"-86.3\" font-family=\"Times,serif\" font-size=\"14.00\" fill=\"#000000\">Treatment</text>\n</g>\n<!-- Mediastinoscopy Death&#45;&gt;Treatment -->\n<g id=\"edge6\" class=\"edge\">\n<title>Mediastinoscopy Death&#45;&gt;Treatment</title>\n<path fill=\"none\" stroke=\"#000000\" d=\"M153.9083,-147.4297C206.3056,-134.0517 283.0162,-114.466 331.933,-101.9766\"/>\n<polygon fill=\"#000000\" stroke=\"#000000\" points=\"332.8071,-105.3658 341.6304,-99.5007 331.0753,-98.5834 332.8071,-105.3658\"/>\n</g>\n<!-- Utility0 -->\n<g id=\"node7\" class=\"node\">\n<title>Utility0</title>\n<polygon fill=\"none\" stroke=\"#000000\" points=\"269.8414,-36 214.5421,-18 269.8414,0 325.1407,-18 269.8414,-36\"/>\n<text text-anchor=\"middle\" x=\"269.8414\" y=\"-14.3\" font-family=\"Times,serif\" font-size=\"14.00\" fill=\"#000000\">Utility0</text>\n</g>\n<!-- Mediastinoscopy Death&#45;&gt;Utility0 -->\n<g id=\"edge11\" class=\"edge\">\n<title>Mediastinoscopy Death&#45;&gt;Utility0</title>\n<path fill=\"none\" stroke=\"#000000\" d=\"M118.0546,-144.3428C150.4939,-117.3413 212.2206,-65.9618 246.1072,-37.7556\"/>\n<polygon fill=\"#000000\" stroke=\"#000000\" points=\"248.6411,-40.2004 254.0878,-31.1128 244.1628,-34.8203 248.6411,-40.2004\"/>\n</g>\n<!-- Mediastinoscopy? -->\n<g id=\"node2\" class=\"node\">\n<title>Mediastinoscopy?</title>\n<polygon fill=\"none\" stroke=\"#000000\" points=\"420.8414,-252 302.8414,-252 302.8414,-216 420.8414,-216 420.8414,-252\"/>\n<text text-anchor=\"middle\" x=\"361.8414\" y=\"-230.3\" font-family=\"Times,serif\" font-size=\"14.00\" fill=\"#000000\">Mediastinoscopy?</text>\n</g>\n<!-- Mediastinoscopy?&#45;&gt;Mediastinoscopy Death -->\n<g id=\"edge1\" class=\"edge\">\n<title>Mediastinoscopy?&#45;&gt;Mediastinoscopy Death</title>\n<path fill=\"none\" stroke=\"#000000\" d=\"M302.7001,-217.9314C260.8106,-206.5501 204.6368,-191.2878 161.5516,-179.5816\"/>\n<polygon fill=\"#000000\" stroke=\"#000000\" points=\"162.3024,-176.1588 151.7345,-176.9144 160.467,-182.9139 162.3024,-176.1588\"/>\n</g>\n<!-- Mediastinoscopy Results -->\n<g id=\"node5\" class=\"node\">\n<title>Mediastinoscopy Results</title>\n<ellipse fill=\"none\" stroke=\"#000000\" cx=\"313.8414\" cy=\"-162\" rx=\"102.0819\" ry=\"18\"/>\n<text text-anchor=\"middle\" x=\"313.8414\" y=\"-158.3\" font-family=\"Times,serif\" font-size=\"14.00\" fill=\"#000000\">Mediastinoscopy Results</text>\n</g>\n<!-- Mediastinoscopy?&#45;&gt;Mediastinoscopy Results -->\n<g id=\"edge3\" class=\"edge\">\n<title>Mediastinoscopy?&#45;&gt;Mediastinoscopy Results</title>\n<path fill=\"none\" stroke=\"#000000\" d=\"M349.729,-215.8314C344.1727,-207.497 337.4792,-197.4567 331.3855,-188.3162\"/>\n<polygon fill=\"#000000\" stroke=\"#000000\" points=\"334.2429,-186.2925 325.7837,-179.9134 328.4185,-190.1754 334.2429,-186.2925\"/>\n</g>\n<!-- Mediastinoscopy?&#45;&gt;Treatment -->\n<g id=\"edge8\" class=\"edge\">\n<title>Mediastinoscopy?&#45;&gt;Treatment</title>\n<path fill=\"none\" stroke=\"#000000\" d=\"M392.8175,-215.8776C405.1983,-206.8263 418.0996,-194.6581 424.8414,-180 431.5271,-165.4638 430.3696,-159.0146 424.8414,-144 421.0364,-133.6656 414.277,-123.9621 407.0914,-115.7098\"/>\n<polygon fill=\"#000000\" stroke=\"#000000\" points=\"409.5334,-113.1965 400.1541,-108.2692 404.4135,-117.9701 409.5334,-113.1965\"/>\n</g>\n<!-- CT Results -->\n<g id=\"node3\" class=\"node\">\n<title>CT Results</title>\n<ellipse fill=\"none\" stroke=\"#000000\" cx=\"440.8414\" cy=\"-306\" rx=\"51.1914\" ry=\"18\"/>\n<text text-anchor=\"middle\" x=\"440.8414\" y=\"-302.3\" font-family=\"Times,serif\" font-size=\"14.00\" fill=\"#000000\">CT Results</text>\n</g>\n<!-- CT Results&#45;&gt;Mediastinoscopy? -->\n<g id=\"edge9\" class=\"edge\">\n<title>CT Results&#45;&gt;Mediastinoscopy?</title>\n<path fill=\"none\" stroke=\"#000000\" d=\"M422.1195,-288.937C412.353,-280.0359 400.2175,-268.9756 389.4005,-259.1172\"/>\n<polygon fill=\"#000000\" stroke=\"#000000\" points=\"391.5585,-256.3484 381.8099,-252.1992 386.8433,-261.5221 391.5585,-256.3484\"/>\n</g>\n<!-- CT Results&#45;&gt;Treatment -->\n<g id=\"edge4\" class=\"edge\">\n<title>CT Results&#45;&gt;Treatment</title>\n<path fill=\"none\" stroke=\"#000000\" d=\"M445.6924,-287.9501C453.0399,-256.8881 463.936,-192.0385 441.8414,-144 436.5744,-132.5483 427.5479,-122.6164 417.9472,-114.5032\"/>\n<polygon fill=\"#000000\" stroke=\"#000000\" points=\"419.8448,-111.5433 409.8175,-108.1224 415.5229,-117.0498 419.8448,-111.5433\"/>\n</g>\n<!-- CT -->\n<g id=\"node4\" class=\"node\">\n<title>CT</title>\n<polygon fill=\"none\" stroke=\"#000000\" points=\"467.8414,-396 413.8414,-396 413.8414,-360 467.8414,-360 467.8414,-396\"/>\n<text text-anchor=\"middle\" x=\"440.8414\" y=\"-374.3\" font-family=\"Times,serif\" font-size=\"14.00\" fill=\"#000000\">CT</text>\n</g>\n<!-- CT&#45;&gt;Mediastinoscopy? -->\n<g id=\"edge10\" class=\"edge\">\n<title>CT&#45;&gt;Mediastinoscopy?</title>\n<path fill=\"none\" stroke=\"#000000\" d=\"M413.9205,-359.85C402.0421,-350.4909 388.9615,-338.0832 380.8414,-324 369.9726,-305.1494 365.2911,-280.8687 363.2896,-262.2787\"/>\n<polygon fill=\"#000000\" stroke=\"#000000\" points=\"366.755,-261.7306 362.3943,-252.0749 359.7818,-262.3425 366.755,-261.7306\"/>\n</g>\n<!-- CT&#45;&gt;CT Results -->\n<g id=\"edge2\" class=\"edge\">\n<title>CT&#45;&gt;CT Results</title>\n<path fill=\"none\" stroke=\"#000000\" d=\"M440.8414,-359.8314C440.8414,-352.131 440.8414,-342.9743 440.8414,-334.4166\"/>\n<polygon fill=\"#000000\" stroke=\"#000000\" points=\"444.3415,-334.4132 440.8414,-324.4133 437.3415,-334.4133 444.3415,-334.4132\"/>\n</g>\n<!-- CT&#45;&gt;Treatment -->\n<g id=\"edge7\" class=\"edge\">\n<title>CT&#45;&gt;Treatment</title>\n<path fill=\"none\" stroke=\"#000000\" d=\"M467.8574,-361.479C480.3884,-352.1877 493.9996,-339.3624 500.8414,-324 507.3508,-309.384 503.0024,-303.8534 500.8414,-288 491.8703,-222.1853 499.958,-197.6837 460.8414,-144 451.4541,-131.1168 437.9829,-120.4402 424.6642,-112.0771\"/>\n<polygon fill=\"#000000\" stroke=\"#000000\" points=\"426.363,-109.0153 415.9783,-106.9156 422.787,-115.033 426.363,-109.0153\"/>\n</g>\n<!-- Mediastinoscopy Results&#45;&gt;Treatment -->\n<g id=\"edge5\" class=\"edge\">\n<title>Mediastinoscopy Results&#45;&gt;Treatment</title>\n<path fill=\"none\" stroke=\"#000000\" d=\"M329.9088,-144.2022C337.6627,-135.6134 347.11,-125.1486 355.6282,-115.7131\"/>\n<polygon fill=\"#000000\" stroke=\"#000000\" points=\"358.4042,-117.8612 362.5073,-108.0931 353.2083,-113.1705 358.4042,-117.8612\"/>\n</g>\n<!-- Treatment&#45;&gt;Utility0 -->\n<g id=\"edge12\" class=\"edge\">\n<title>Treatment&#45;&gt;Utility0</title>\n<path fill=\"none\" stroke=\"#000000\" d=\"M351.3361,-71.8314C334.7337,-60.8646 313.6599,-46.9443 297.1017,-36.0068\"/>\n<polygon fill=\"#000000\" stroke=\"#000000\" points=\"298.6975,-32.8663 288.4244,-30.275 294.8393,-38.7071 298.6975,-32.8663\"/>\n</g>\n</g>\n</svg>\n"
     },
     "metadata": {},
     "execution_count": 18
    }
   ],
   "source": [
    "model.viz()"
   ]
  },
  {
   "cell_type": "code",
   "execution_count": 17,
   "metadata": {},
   "outputs": [],
   "source": [
    "model = ai.remove_chance_node(model, i)"
   ]
  },
  {
   "cell_type": "code",
   "execution_count": 11,
   "metadata": {},
   "outputs": [
    {
     "output_type": "stream",
     "name": "stdout",
     "text": [
      "Max EU at iteration 0: 2.093077224\n",
      "Starting simulation...\n",
      "Max EU at the end: 3.3930543844800005\n",
      "End simulation: time spend = 10.387110233306885\n",
      "Best: [1, 0, 0, 1, 0, 1, 1, 0, 1, 0, 0, 0, 0, 0, 1, 1, 1, 0, 1, 0, 1, 0, 0, 1, 1, 0, 0, 0, 0, 0, 1, 1, 0, 0, 0, 0, 1, 0, 0, 0, 1, 1, 0, 1, 0, 1, 1, 0, 1, 1, 0, 0, 1, 1, 0, 1, 1, 0, 0, 0, 0, 0, 1, 1, 1, 0, 1, 0, 1, 1, 0, 0, 0, 1, 0, 1, 0, 0, 1]\n",
      "Optimal strategy: [CT \n",
      "(0,) -> 1\n",
      "(1,) -> 0\n",
      ", Treatment CT Results Mediastinoscopy Results Mediastinoscopy Death CT Mediastinoscopy? \n",
      "(0, 0, 0, 0, 0, 0) -> 0\n",
      "(0, 0, 0, 0, 0, 1) -> 0\n",
      "(0, 0, 0, 0, 1, 0) -> 1\n",
      "(0, 0, 0, 0, 1, 1) -> 0\n",
      "(0, 0, 0, 1, 0, 0) -> 1\n",
      "(0, 0, 0, 1, 0, 1) -> 1\n",
      "(0, 0, 0, 1, 1, 0) -> 0\n",
      "(0, 0, 0, 1, 1, 1) -> 1\n",
      "(0, 0, 1, 0, 0, 0) -> 0\n",
      "(0, 0, 1, 0, 0, 1) -> 0\n",
      "(0, 0, 1, 0, 1, 0) -> 0\n",
      "(0, 0, 1, 0, 1, 1) -> 0\n",
      "(0, 0, 1, 1, 0, 0) -> 0\n",
      "(0, 0, 1, 1, 0, 1) -> 1\n",
      "(0, 0, 1, 1, 1, 0) -> 1\n",
      "(0, 0, 1, 1, 1, 1) -> 1\n",
      "(0, 0, 2, 0, 0, 0) -> 0\n",
      "(0, 0, 2, 0, 0, 1) -> 1\n",
      "(0, 0, 2, 0, 1, 0) -> 0\n",
      "(0, 0, 2, 0, 1, 1) -> 1\n",
      "(0, 0, 2, 1, 0, 0) -> 0\n",
      "(0, 0, 2, 1, 0, 1) -> 0\n",
      "(0, 0, 2, 1, 1, 0) -> 1\n",
      "(0, 0, 2, 1, 1, 1) -> 1\n",
      "(0, 1, 0, 0, 0, 0) -> 0\n",
      "(0, 1, 0, 0, 0, 1) -> 0\n",
      "(0, 1, 0, 0, 1, 0) -> 0\n",
      "(0, 1, 0, 0, 1, 1) -> 0\n",
      "(0, 1, 0, 1, 0, 0) -> 0\n",
      "(0, 1, 0, 1, 0, 1) -> 1\n",
      "(0, 1, 0, 1, 1, 0) -> 1\n",
      "(0, 1, 0, 1, 1, 1) -> 0\n",
      "(0, 1, 1, 0, 0, 0) -> 0\n",
      "(0, 1, 1, 0, 0, 1) -> 0\n",
      "(0, 1, 1, 0, 1, 0) -> 0\n",
      "(0, 1, 1, 0, 1, 1) -> 1\n",
      "(0, 1, 1, 1, 0, 0) -> 0\n",
      "(0, 1, 1, 1, 0, 1) -> 0\n",
      "(0, 1, 1, 1, 1, 0) -> 0\n",
      "(0, 1, 1, 1, 1, 1) -> 1\n",
      "(0, 1, 2, 0, 0, 0) -> 1\n",
      "(0, 1, 2, 0, 0, 1) -> 0\n",
      "(0, 1, 2, 0, 1, 0) -> 1\n",
      "(0, 1, 2, 0, 1, 1) -> 0\n",
      "(0, 1, 2, 1, 0, 0) -> 1\n",
      "(0, 1, 2, 1, 0, 1) -> 1\n",
      "(0, 1, 2, 1, 1, 0) -> 0\n",
      "(0, 1, 2, 1, 1, 1) -> 1\n",
      "(0, 2, 0, 0, 0, 0) -> 1\n",
      "(0, 2, 0, 0, 0, 1) -> 0\n",
      "(0, 2, 0, 0, 1, 0) -> 0\n",
      "(0, 2, 0, 0, 1, 1) -> 1\n",
      "(0, 2, 0, 1, 0, 0) -> 1\n",
      "(0, 2, 0, 1, 0, 1) -> 0\n",
      "(0, 2, 0, 1, 1, 0) -> 1\n",
      "(0, 2, 0, 1, 1, 1) -> 1\n",
      "(0, 2, 1, 0, 0, 0) -> 0\n",
      "(0, 2, 1, 0, 0, 1) -> 0\n",
      "(0, 2, 1, 0, 1, 0) -> 0\n",
      "(0, 2, 1, 0, 1, 1) -> 0\n",
      "(0, 2, 1, 1, 0, 0) -> 0\n",
      "(0, 2, 1, 1, 0, 1) -> 1\n",
      "(0, 2, 1, 1, 1, 0) -> 1\n",
      "(0, 2, 1, 1, 1, 1) -> 1\n",
      "(0, 2, 2, 0, 0, 0) -> 0\n",
      "(0, 2, 2, 0, 0, 1) -> 1\n",
      "(0, 2, 2, 0, 1, 0) -> 0\n",
      "(0, 2, 2, 0, 1, 1) -> 1\n",
      "(0, 2, 2, 1, 0, 0) -> 1\n",
      "(0, 2, 2, 1, 0, 1) -> 0\n",
      "(0, 2, 2, 1, 1, 0) -> 0\n",
      "(0, 2, 2, 1, 1, 1) -> 0\n",
      "(1, 0, 0, 0, 0, 0) -> 1\n",
      "(1, 0, 0, 0, 0, 1) -> 1\n",
      "(1, 0, 0, 0, 1, 0) -> 0\n",
      "(1, 0, 0, 0, 1, 1) -> 1\n",
      "(1, 0, 0, 1, 0, 0) -> 0\n",
      "(1, 0, 0, 1, 0, 1) -> 0\n",
      "(1, 0, 0, 1, 1, 0) -> 1\n",
      "(1, 0, 0, 1, 1, 1) -> 0\n",
      "(1, 0, 1, 0, 0, 0) -> 1\n",
      "(1, 0, 1, 0, 0, 1) -> 1\n",
      "(1, 0, 1, 0, 1, 0) -> 1\n",
      "(1, 0, 1, 0, 1, 1) -> 1\n",
      "(1, 0, 1, 1, 0, 0) -> 1\n",
      "(1, 0, 1, 1, 0, 1) -> 0\n",
      "(1, 0, 1, 1, 1, 0) -> 0\n",
      "(1, 0, 1, 1, 1, 1) -> 0\n",
      "(1, 0, 2, 0, 0, 0) -> 1\n",
      "(1, 0, 2, 0, 0, 1) -> 0\n",
      "(1, 0, 2, 0, 1, 0) -> 1\n",
      "(1, 0, 2, 0, 1, 1) -> 0\n",
      "(1, 0, 2, 1, 0, 0) -> 1\n",
      "(1, 0, 2, 1, 0, 1) -> 1\n",
      "(1, 0, 2, 1, 1, 0) -> 0\n",
      "(1, 0, 2, 1, 1, 1) -> 0\n",
      "(1, 1, 0, 0, 0, 0) -> 1\n",
      "(1, 1, 0, 0, 0, 1) -> 1\n",
      "(1, 1, 0, 0, 1, 0) -> 1\n",
      "(1, 1, 0, 0, 1, 1) -> 1\n",
      "(1, 1, 0, 1, 0, 0) -> 1\n",
      "(1, 1, 0, 1, 0, 1) -> 0\n",
      "(1, 1, 0, 1, 1, 0) -> 0\n",
      "(1, 1, 0, 1, 1, 1) -> 1\n",
      "(1, 1, 1, 0, 0, 0) -> 1\n",
      "(1, 1, 1, 0, 0, 1) -> 1\n",
      "(1, 1, 1, 0, 1, 0) -> 1\n",
      "(1, 1, 1, 0, 1, 1) -> 0\n",
      "(1, 1, 1, 1, 0, 0) -> 1\n",
      "(1, 1, 1, 1, 0, 1) -> 1\n",
      "(1, 1, 1, 1, 1, 0) -> 1\n",
      "(1, 1, 1, 1, 1, 1) -> 0\n",
      "(1, 1, 2, 0, 0, 0) -> 0\n",
      "(1, 1, 2, 0, 0, 1) -> 1\n",
      "(1, 1, 2, 0, 1, 0) -> 0\n",
      "(1, 1, 2, 0, 1, 1) -> 1\n",
      "(1, 1, 2, 1, 0, 0) -> 0\n",
      "(1, 1, 2, 1, 0, 1) -> 0\n",
      "(1, 1, 2, 1, 1, 0) -> 1\n",
      "(1, 1, 2, 1, 1, 1) -> 0\n",
      "(1, 2, 0, 0, 0, 0) -> 0\n",
      "(1, 2, 0, 0, 0, 1) -> 1\n",
      "(1, 2, 0, 0, 1, 0) -> 1\n",
      "(1, 2, 0, 0, 1, 1) -> 0\n",
      "(1, 2, 0, 1, 0, 0) -> 0\n",
      "(1, 2, 0, 1, 0, 1) -> 1\n",
      "(1, 2, 0, 1, 1, 0) -> 0\n",
      "(1, 2, 0, 1, 1, 1) -> 0\n",
      "(1, 2, 1, 0, 0, 0) -> 1\n",
      "(1, 2, 1, 0, 0, 1) -> 1\n",
      "(1, 2, 1, 0, 1, 0) -> 1\n",
      "(1, 2, 1, 0, 1, 1) -> 1\n",
      "(1, 2, 1, 1, 0, 0) -> 1\n",
      "(1, 2, 1, 1, 0, 1) -> 0\n",
      "(1, 2, 1, 1, 1, 0) -> 0\n",
      "(1, 2, 1, 1, 1, 1) -> 0\n",
      "(1, 2, 2, 0, 0, 0) -> 1\n",
      "(1, 2, 2, 0, 0, 1) -> 0\n",
      "(1, 2, 2, 0, 1, 0) -> 1\n",
      "(1, 2, 2, 0, 1, 1) -> 0\n",
      "(1, 2, 2, 1, 0, 0) -> 0\n",
      "(1, 2, 2, 1, 0, 1) -> 1\n",
      "(1, 2, 2, 1, 1, 0) -> 1\n",
      "(1, 2, 2, 1, 1, 1) -> 1\n",
      ", Mediastinoscopy? CT Results CT \n",
      "(0, 0, 0) -> 1\n",
      "(0, 0, 1) -> 0\n",
      "(0, 1, 0) -> 1\n",
      "(0, 1, 1) -> 0\n",
      "(0, 2, 0) -> 0\n",
      "(0, 2, 1) -> 1\n",
      "(1, 0, 0) -> 0\n",
      "(1, 0, 1) -> 1\n",
      "(1, 1, 0) -> 0\n",
      "(1, 1, 1) -> 1\n",
      "(1, 2, 0) -> 1\n",
      "(1, 2, 1) -> 0\n",
      "]\n"
     ]
    },
    {
     "output_type": "display_data",
     "data": {
      "text/plain": "<Figure size 864x432 with 1 Axes>",
      "image/svg+xml": "<?xml version=\"1.0\" encoding=\"utf-8\" standalone=\"no\"?>\n<!DOCTYPE svg PUBLIC \"-//W3C//DTD SVG 1.1//EN\"\n  \"http://www.w3.org/Graphics/SVG/1.1/DTD/svg11.dtd\">\n<!-- Created with matplotlib (https://matplotlib.org/) -->\n<svg height=\"372.35625pt\" version=\"1.1\" viewBox=\"0 0 706.903125 372.35625\" width=\"706.903125pt\" xmlns=\"http://www.w3.org/2000/svg\" xmlns:xlink=\"http://www.w3.org/1999/xlink\">\n <defs>\n  <style type=\"text/css\">\n*{stroke-linecap:butt;stroke-linejoin:round;}\n  </style>\n </defs>\n <g id=\"figure_1\">\n  <g id=\"patch_1\">\n   <path d=\"M 0 372.35625 \nL 706.903125 372.35625 \nL 706.903125 0 \nL 0 0 \nz\n\" style=\"fill:none;\"/>\n  </g>\n  <g id=\"axes_1\">\n   <g id=\"patch_2\">\n    <path d=\"M 30.103125 348.478125 \nL 699.703125 348.478125 \nL 699.703125 22.318125 \nL 30.103125 22.318125 \nz\n\" style=\"fill:#ffffff;\"/>\n   </g>\n   <g id=\"matplotlib.axis_1\">\n    <g id=\"xtick_1\">\n     <g id=\"line2d_1\">\n      <defs>\n       <path d=\"M 0 0 \nL 0 3.5 \n\" id=\"mfba31468c2\" style=\"stroke:#000000;stroke-width:0.8;\"/>\n      </defs>\n      <g>\n       <use style=\"stroke:#000000;stroke-width:0.8;\" x=\"60.539489\" xlink:href=\"#mfba31468c2\" y=\"348.478125\"/>\n      </g>\n     </g>\n     <g id=\"text_1\">\n      <!-- 0 -->\n      <defs>\n       <path d=\"M 31.78125 66.40625 \nQ 24.171875 66.40625 20.328125 58.90625 \nQ 16.5 51.421875 16.5 36.375 \nQ 16.5 21.390625 20.328125 13.890625 \nQ 24.171875 6.390625 31.78125 6.390625 \nQ 39.453125 6.390625 43.28125 13.890625 \nQ 47.125 21.390625 47.125 36.375 \nQ 47.125 51.421875 43.28125 58.90625 \nQ 39.453125 66.40625 31.78125 66.40625 \nz\nM 31.78125 74.21875 \nQ 44.046875 74.21875 50.515625 64.515625 \nQ 56.984375 54.828125 56.984375 36.375 \nQ 56.984375 17.96875 50.515625 8.265625 \nQ 44.046875 -1.421875 31.78125 -1.421875 \nQ 19.53125 -1.421875 13.0625 8.265625 \nQ 6.59375 17.96875 6.59375 36.375 \nQ 6.59375 54.828125 13.0625 64.515625 \nQ 19.53125 74.21875 31.78125 74.21875 \nz\n\" id=\"DejaVuSans-48\"/>\n      </defs>\n      <g transform=\"translate(57.358239 363.076563)scale(0.1 -0.1)\">\n       <use xlink:href=\"#DejaVuSans-48\"/>\n      </g>\n     </g>\n    </g>\n    <g id=\"xtick_2\">\n     <g id=\"line2d_2\">\n      <g>\n       <use style=\"stroke:#000000;stroke-width:0.8;\" x=\"184.769544\" xlink:href=\"#mfba31468c2\" y=\"348.478125\"/>\n      </g>\n     </g>\n     <g id=\"text_2\">\n      <!-- 10 -->\n      <defs>\n       <path d=\"M 12.40625 8.296875 \nL 28.515625 8.296875 \nL 28.515625 63.921875 \nL 10.984375 60.40625 \nL 10.984375 69.390625 \nL 28.421875 72.90625 \nL 38.28125 72.90625 \nL 38.28125 8.296875 \nL 54.390625 8.296875 \nL 54.390625 0 \nL 12.40625 0 \nz\n\" id=\"DejaVuSans-49\"/>\n      </defs>\n      <g transform=\"translate(178.407044 363.076563)scale(0.1 -0.1)\">\n       <use xlink:href=\"#DejaVuSans-49\"/>\n       <use x=\"63.623047\" xlink:href=\"#DejaVuSans-48\"/>\n      </g>\n     </g>\n    </g>\n    <g id=\"xtick_3\">\n     <g id=\"line2d_3\">\n      <g>\n       <use style=\"stroke:#000000;stroke-width:0.8;\" x=\"308.9996\" xlink:href=\"#mfba31468c2\" y=\"348.478125\"/>\n      </g>\n     </g>\n     <g id=\"text_3\">\n      <!-- 20 -->\n      <defs>\n       <path d=\"M 19.1875 8.296875 \nL 53.609375 8.296875 \nL 53.609375 0 \nL 7.328125 0 \nL 7.328125 8.296875 \nQ 12.9375 14.109375 22.625 23.890625 \nQ 32.328125 33.6875 34.8125 36.53125 \nQ 39.546875 41.84375 41.421875 45.53125 \nQ 43.3125 49.21875 43.3125 52.78125 \nQ 43.3125 58.59375 39.234375 62.25 \nQ 35.15625 65.921875 28.609375 65.921875 \nQ 23.96875 65.921875 18.8125 64.3125 \nQ 13.671875 62.703125 7.8125 59.421875 \nL 7.8125 69.390625 \nQ 13.765625 71.78125 18.9375 73 \nQ 24.125 74.21875 28.421875 74.21875 \nQ 39.75 74.21875 46.484375 68.546875 \nQ 53.21875 62.890625 53.21875 53.421875 \nQ 53.21875 48.921875 51.53125 44.890625 \nQ 49.859375 40.875 45.40625 35.40625 \nQ 44.1875 33.984375 37.640625 27.21875 \nQ 31.109375 20.453125 19.1875 8.296875 \nz\n\" id=\"DejaVuSans-50\"/>\n      </defs>\n      <g transform=\"translate(302.6371 363.076563)scale(0.1 -0.1)\">\n       <use xlink:href=\"#DejaVuSans-50\"/>\n       <use x=\"63.623047\" xlink:href=\"#DejaVuSans-48\"/>\n      </g>\n     </g>\n    </g>\n    <g id=\"xtick_4\">\n     <g id=\"line2d_4\">\n      <g>\n       <use style=\"stroke:#000000;stroke-width:0.8;\" x=\"433.229656\" xlink:href=\"#mfba31468c2\" y=\"348.478125\"/>\n      </g>\n     </g>\n     <g id=\"text_4\">\n      <!-- 30 -->\n      <defs>\n       <path d=\"M 40.578125 39.3125 \nQ 47.65625 37.796875 51.625 33 \nQ 55.609375 28.21875 55.609375 21.1875 \nQ 55.609375 10.40625 48.1875 4.484375 \nQ 40.765625 -1.421875 27.09375 -1.421875 \nQ 22.515625 -1.421875 17.65625 -0.515625 \nQ 12.796875 0.390625 7.625 2.203125 \nL 7.625 11.71875 \nQ 11.71875 9.328125 16.59375 8.109375 \nQ 21.484375 6.890625 26.8125 6.890625 \nQ 36.078125 6.890625 40.9375 10.546875 \nQ 45.796875 14.203125 45.796875 21.1875 \nQ 45.796875 27.640625 41.28125 31.265625 \nQ 36.765625 34.90625 28.71875 34.90625 \nL 20.21875 34.90625 \nL 20.21875 43.015625 \nL 29.109375 43.015625 \nQ 36.375 43.015625 40.234375 45.921875 \nQ 44.09375 48.828125 44.09375 54.296875 \nQ 44.09375 59.90625 40.109375 62.90625 \nQ 36.140625 65.921875 28.71875 65.921875 \nQ 24.65625 65.921875 20.015625 65.03125 \nQ 15.375 64.15625 9.8125 62.3125 \nL 9.8125 71.09375 \nQ 15.4375 72.65625 20.34375 73.4375 \nQ 25.25 74.21875 29.59375 74.21875 \nQ 40.828125 74.21875 47.359375 69.109375 \nQ 53.90625 64.015625 53.90625 55.328125 \nQ 53.90625 49.265625 50.4375 45.09375 \nQ 46.96875 40.921875 40.578125 39.3125 \nz\n\" id=\"DejaVuSans-51\"/>\n      </defs>\n      <g transform=\"translate(426.867156 363.076563)scale(0.1 -0.1)\">\n       <use xlink:href=\"#DejaVuSans-51\"/>\n       <use x=\"63.623047\" xlink:href=\"#DejaVuSans-48\"/>\n      </g>\n     </g>\n    </g>\n    <g id=\"xtick_5\">\n     <g id=\"line2d_5\">\n      <g>\n       <use style=\"stroke:#000000;stroke-width:0.8;\" x=\"557.459711\" xlink:href=\"#mfba31468c2\" y=\"348.478125\"/>\n      </g>\n     </g>\n     <g id=\"text_5\">\n      <!-- 40 -->\n      <defs>\n       <path d=\"M 37.796875 64.3125 \nL 12.890625 25.390625 \nL 37.796875 25.390625 \nz\nM 35.203125 72.90625 \nL 47.609375 72.90625 \nL 47.609375 25.390625 \nL 58.015625 25.390625 \nL 58.015625 17.1875 \nL 47.609375 17.1875 \nL 47.609375 0 \nL 37.796875 0 \nL 37.796875 17.1875 \nL 4.890625 17.1875 \nL 4.890625 26.703125 \nz\n\" id=\"DejaVuSans-52\"/>\n      </defs>\n      <g transform=\"translate(551.097211 363.076563)scale(0.1 -0.1)\">\n       <use xlink:href=\"#DejaVuSans-52\"/>\n       <use x=\"63.623047\" xlink:href=\"#DejaVuSans-48\"/>\n      </g>\n     </g>\n    </g>\n    <g id=\"xtick_6\">\n     <g id=\"line2d_6\">\n      <g>\n       <use style=\"stroke:#000000;stroke-width:0.8;\" x=\"681.689767\" xlink:href=\"#mfba31468c2\" y=\"348.478125\"/>\n      </g>\n     </g>\n     <g id=\"text_6\">\n      <!-- 50 -->\n      <defs>\n       <path d=\"M 10.796875 72.90625 \nL 49.515625 72.90625 \nL 49.515625 64.59375 \nL 19.828125 64.59375 \nL 19.828125 46.734375 \nQ 21.96875 47.46875 24.109375 47.828125 \nQ 26.265625 48.1875 28.421875 48.1875 \nQ 40.625 48.1875 47.75 41.5 \nQ 54.890625 34.8125 54.890625 23.390625 \nQ 54.890625 11.625 47.5625 5.09375 \nQ 40.234375 -1.421875 26.90625 -1.421875 \nQ 22.3125 -1.421875 17.546875 -0.640625 \nQ 12.796875 0.140625 7.71875 1.703125 \nL 7.71875 11.625 \nQ 12.109375 9.234375 16.796875 8.0625 \nQ 21.484375 6.890625 26.703125 6.890625 \nQ 35.15625 6.890625 40.078125 11.328125 \nQ 45.015625 15.765625 45.015625 23.390625 \nQ 45.015625 31 40.078125 35.4375 \nQ 35.15625 39.890625 26.703125 39.890625 \nQ 22.75 39.890625 18.8125 39.015625 \nQ 14.890625 38.140625 10.796875 36.28125 \nz\n\" id=\"DejaVuSans-53\"/>\n      </defs>\n      <g transform=\"translate(675.327267 363.076563)scale(0.1 -0.1)\">\n       <use xlink:href=\"#DejaVuSans-53\"/>\n       <use x=\"63.623047\" xlink:href=\"#DejaVuSans-48\"/>\n      </g>\n     </g>\n    </g>\n   </g>\n   <g id=\"matplotlib.axis_2\">\n    <g id=\"ytick_1\">\n     <g id=\"line2d_7\">\n      <defs>\n       <path d=\"M 0 0 \nL -3.5 0 \n\" id=\"mf1d5b51268\" style=\"stroke:#000000;stroke-width:0.8;\"/>\n      </defs>\n      <g>\n       <use style=\"stroke:#000000;stroke-width:0.8;\" x=\"30.103125\" xlink:href=\"#mf1d5b51268\" y=\"309.264877\"/>\n      </g>\n     </g>\n     <g id=\"text_7\">\n      <!-- 2.2 -->\n      <defs>\n       <path d=\"M 10.6875 12.40625 \nL 21 12.40625 \nL 21 0 \nL 10.6875 0 \nz\n\" id=\"DejaVuSans-46\"/>\n      </defs>\n      <g transform=\"translate(7.2 313.064095)scale(0.1 -0.1)\">\n       <use xlink:href=\"#DejaVuSans-50\"/>\n       <use x=\"63.623047\" xlink:href=\"#DejaVuSans-46\"/>\n       <use x=\"95.410156\" xlink:href=\"#DejaVuSans-50\"/>\n      </g>\n     </g>\n    </g>\n    <g id=\"ytick_2\">\n     <g id=\"line2d_8\">\n      <g>\n       <use style=\"stroke:#000000;stroke-width:0.8;\" x=\"30.103125\" xlink:href=\"#mf1d5b51268\" y=\"263.647292\"/>\n      </g>\n     </g>\n     <g id=\"text_8\">\n      <!-- 2.4 -->\n      <g transform=\"translate(7.2 267.446511)scale(0.1 -0.1)\">\n       <use xlink:href=\"#DejaVuSans-50\"/>\n       <use x=\"63.623047\" xlink:href=\"#DejaVuSans-46\"/>\n       <use x=\"95.410156\" xlink:href=\"#DejaVuSans-52\"/>\n      </g>\n     </g>\n    </g>\n    <g id=\"ytick_3\">\n     <g id=\"line2d_9\">\n      <g>\n       <use style=\"stroke:#000000;stroke-width:0.8;\" x=\"30.103125\" xlink:href=\"#mf1d5b51268\" y=\"218.029707\"/>\n      </g>\n     </g>\n     <g id=\"text_9\">\n      <!-- 2.6 -->\n      <defs>\n       <path d=\"M 33.015625 40.375 \nQ 26.375 40.375 22.484375 35.828125 \nQ 18.609375 31.296875 18.609375 23.390625 \nQ 18.609375 15.53125 22.484375 10.953125 \nQ 26.375 6.390625 33.015625 6.390625 \nQ 39.65625 6.390625 43.53125 10.953125 \nQ 47.40625 15.53125 47.40625 23.390625 \nQ 47.40625 31.296875 43.53125 35.828125 \nQ 39.65625 40.375 33.015625 40.375 \nz\nM 52.59375 71.296875 \nL 52.59375 62.3125 \nQ 48.875 64.0625 45.09375 64.984375 \nQ 41.3125 65.921875 37.59375 65.921875 \nQ 27.828125 65.921875 22.671875 59.328125 \nQ 17.53125 52.734375 16.796875 39.40625 \nQ 19.671875 43.65625 24.015625 45.921875 \nQ 28.375 48.1875 33.59375 48.1875 \nQ 44.578125 48.1875 50.953125 41.515625 \nQ 57.328125 34.859375 57.328125 23.390625 \nQ 57.328125 12.15625 50.6875 5.359375 \nQ 44.046875 -1.421875 33.015625 -1.421875 \nQ 20.359375 -1.421875 13.671875 8.265625 \nQ 6.984375 17.96875 6.984375 36.375 \nQ 6.984375 53.65625 15.1875 63.9375 \nQ 23.390625 74.21875 37.203125 74.21875 \nQ 40.921875 74.21875 44.703125 73.484375 \nQ 48.484375 72.75 52.59375 71.296875 \nz\n\" id=\"DejaVuSans-54\"/>\n      </defs>\n      <g transform=\"translate(7.2 221.828926)scale(0.1 -0.1)\">\n       <use xlink:href=\"#DejaVuSans-50\"/>\n       <use x=\"63.623047\" xlink:href=\"#DejaVuSans-46\"/>\n       <use x=\"95.410156\" xlink:href=\"#DejaVuSans-54\"/>\n      </g>\n     </g>\n    </g>\n    <g id=\"ytick_4\">\n     <g id=\"line2d_10\">\n      <g>\n       <use style=\"stroke:#000000;stroke-width:0.8;\" x=\"30.103125\" xlink:href=\"#mf1d5b51268\" y=\"172.412123\"/>\n      </g>\n     </g>\n     <g id=\"text_10\">\n      <!-- 2.8 -->\n      <defs>\n       <path d=\"M 31.78125 34.625 \nQ 24.75 34.625 20.71875 30.859375 \nQ 16.703125 27.09375 16.703125 20.515625 \nQ 16.703125 13.921875 20.71875 10.15625 \nQ 24.75 6.390625 31.78125 6.390625 \nQ 38.8125 6.390625 42.859375 10.171875 \nQ 46.921875 13.96875 46.921875 20.515625 \nQ 46.921875 27.09375 42.890625 30.859375 \nQ 38.875 34.625 31.78125 34.625 \nz\nM 21.921875 38.8125 \nQ 15.578125 40.375 12.03125 44.71875 \nQ 8.5 49.078125 8.5 55.328125 \nQ 8.5 64.0625 14.71875 69.140625 \nQ 20.953125 74.21875 31.78125 74.21875 \nQ 42.671875 74.21875 48.875 69.140625 \nQ 55.078125 64.0625 55.078125 55.328125 \nQ 55.078125 49.078125 51.53125 44.71875 \nQ 48 40.375 41.703125 38.8125 \nQ 48.828125 37.15625 52.796875 32.3125 \nQ 56.78125 27.484375 56.78125 20.515625 \nQ 56.78125 9.90625 50.3125 4.234375 \nQ 43.84375 -1.421875 31.78125 -1.421875 \nQ 19.734375 -1.421875 13.25 4.234375 \nQ 6.78125 9.90625 6.78125 20.515625 \nQ 6.78125 27.484375 10.78125 32.3125 \nQ 14.796875 37.15625 21.921875 38.8125 \nz\nM 18.3125 54.390625 \nQ 18.3125 48.734375 21.84375 45.5625 \nQ 25.390625 42.390625 31.78125 42.390625 \nQ 38.140625 42.390625 41.71875 45.5625 \nQ 45.3125 48.734375 45.3125 54.390625 \nQ 45.3125 60.0625 41.71875 63.234375 \nQ 38.140625 66.40625 31.78125 66.40625 \nQ 25.390625 66.40625 21.84375 63.234375 \nQ 18.3125 60.0625 18.3125 54.390625 \nz\n\" id=\"DejaVuSans-56\"/>\n      </defs>\n      <g transform=\"translate(7.2 176.211341)scale(0.1 -0.1)\">\n       <use xlink:href=\"#DejaVuSans-50\"/>\n       <use x=\"63.623047\" xlink:href=\"#DejaVuSans-46\"/>\n       <use x=\"95.410156\" xlink:href=\"#DejaVuSans-56\"/>\n      </g>\n     </g>\n    </g>\n    <g id=\"ytick_5\">\n     <g id=\"line2d_11\">\n      <g>\n       <use style=\"stroke:#000000;stroke-width:0.8;\" x=\"30.103125\" xlink:href=\"#mf1d5b51268\" y=\"126.794538\"/>\n      </g>\n     </g>\n     <g id=\"text_11\">\n      <!-- 3.0 -->\n      <g transform=\"translate(7.2 130.593757)scale(0.1 -0.1)\">\n       <use xlink:href=\"#DejaVuSans-51\"/>\n       <use x=\"63.623047\" xlink:href=\"#DejaVuSans-46\"/>\n       <use x=\"95.410156\" xlink:href=\"#DejaVuSans-48\"/>\n      </g>\n     </g>\n    </g>\n    <g id=\"ytick_6\">\n     <g id=\"line2d_12\">\n      <g>\n       <use style=\"stroke:#000000;stroke-width:0.8;\" x=\"30.103125\" xlink:href=\"#mf1d5b51268\" y=\"81.176953\"/>\n      </g>\n     </g>\n     <g id=\"text_12\">\n      <!-- 3.2 -->\n      <g transform=\"translate(7.2 84.976172)scale(0.1 -0.1)\">\n       <use xlink:href=\"#DejaVuSans-51\"/>\n       <use x=\"63.623047\" xlink:href=\"#DejaVuSans-46\"/>\n       <use x=\"95.410156\" xlink:href=\"#DejaVuSans-50\"/>\n      </g>\n     </g>\n    </g>\n    <g id=\"ytick_7\">\n     <g id=\"line2d_13\">\n      <g>\n       <use style=\"stroke:#000000;stroke-width:0.8;\" x=\"30.103125\" xlink:href=\"#mf1d5b51268\" y=\"35.559369\"/>\n      </g>\n     </g>\n     <g id=\"text_13\">\n      <!-- 3.4 -->\n      <g transform=\"translate(7.2 39.358587)scale(0.1 -0.1)\">\n       <use xlink:href=\"#DejaVuSans-51\"/>\n       <use x=\"63.623047\" xlink:href=\"#DejaVuSans-46\"/>\n       <use x=\"95.410156\" xlink:href=\"#DejaVuSans-52\"/>\n      </g>\n     </g>\n    </g>\n   </g>\n   <g id=\"line2d_14\">\n    <path clip-path=\"url(#p01de471e60)\" d=\"M 60.539489 333.65267 \nL 72.962494 120.922186 \nL 85.3855 84.063382 \nL 97.808505 84.063382 \nL 110.231511 84.063382 \nL 122.654516 84.063382 \nL 135.077522 84.063382 \nL 147.500528 84.063382 \nL 159.923533 84.063382 \nL 172.346539 84.063382 \nL 184.769544 37.14358 \nL 197.19255 37.14358 \nL 209.615555 37.14358 \nL 222.038561 37.14358 \nL 234.461567 37.14358 \nL 246.884572 37.14358 \nL 259.307578 37.14358 \nL 271.730583 37.14358 \nL 284.153589 37.14358 \nL 296.576594 37.14358 \nL 308.9996 37.14358 \nL 321.422606 37.14358 \nL 333.845611 37.14358 \nL 346.268617 37.14358 \nL 358.691622 37.14358 \nL 371.114628 37.14358 \nL 383.537633 37.14358 \nL 395.960639 37.14358 \nL 408.383644 37.14358 \nL 420.80665 37.14358 \nL 433.229656 37.14358 \nL 445.652661 37.14358 \nL 458.075667 37.14358 \nL 470.498672 37.14358 \nL 482.921678 37.14358 \nL 495.344683 37.14358 \nL 507.767689 37.14358 \nL 520.190695 37.14358 \nL 532.6137 37.14358 \nL 545.036706 37.14358 \nL 557.459711 37.14358 \nL 569.882717 37.14358 \nL 582.305722 37.14358 \nL 594.728728 37.14358 \nL 607.151734 37.14358 \nL 619.574739 37.14358 \nL 631.997745 37.14358 \nL 644.42075 37.14358 \nL 656.843756 37.14358 \nL 669.266761 37.14358 \n\" style=\"fill:none;stroke:#ff0000;stroke-linecap:square;stroke-width:1.5;\"/>\n    <defs>\n     <path d=\"M 0 3 \nC 0.795609 3 1.55874 2.683901 2.12132 2.12132 \nC 2.683901 1.55874 3 0.795609 3 0 \nC 3 -0.795609 2.683901 -1.55874 2.12132 -2.12132 \nC 1.55874 -2.683901 0.795609 -3 0 -3 \nC -0.795609 -3 -1.55874 -2.683901 -2.12132 -2.12132 \nC -2.683901 -1.55874 -3 -0.795609 -3 0 \nC -3 0.795609 -2.683901 1.55874 -2.12132 2.12132 \nC -1.55874 2.683901 -0.795609 3 0 3 \nz\n\" id=\"m87cadb6d46\" style=\"stroke:#ff0000;\"/>\n    </defs>\n    <g clip-path=\"url(#p01de471e60)\">\n     <use style=\"fill:#ff0000;stroke:#ff0000;\" x=\"60.539489\" xlink:href=\"#m87cadb6d46\" y=\"333.65267\"/>\n     <use style=\"fill:#ff0000;stroke:#ff0000;\" x=\"72.962494\" xlink:href=\"#m87cadb6d46\" y=\"120.922186\"/>\n     <use style=\"fill:#ff0000;stroke:#ff0000;\" x=\"85.3855\" xlink:href=\"#m87cadb6d46\" y=\"84.063382\"/>\n     <use style=\"fill:#ff0000;stroke:#ff0000;\" x=\"97.808505\" xlink:href=\"#m87cadb6d46\" y=\"84.063382\"/>\n     <use style=\"fill:#ff0000;stroke:#ff0000;\" x=\"110.231511\" xlink:href=\"#m87cadb6d46\" y=\"84.063382\"/>\n     <use style=\"fill:#ff0000;stroke:#ff0000;\" x=\"122.654516\" xlink:href=\"#m87cadb6d46\" y=\"84.063382\"/>\n     <use style=\"fill:#ff0000;stroke:#ff0000;\" x=\"135.077522\" xlink:href=\"#m87cadb6d46\" y=\"84.063382\"/>\n     <use style=\"fill:#ff0000;stroke:#ff0000;\" x=\"147.500528\" xlink:href=\"#m87cadb6d46\" y=\"84.063382\"/>\n     <use style=\"fill:#ff0000;stroke:#ff0000;\" x=\"159.923533\" xlink:href=\"#m87cadb6d46\" y=\"84.063382\"/>\n     <use style=\"fill:#ff0000;stroke:#ff0000;\" x=\"172.346539\" xlink:href=\"#m87cadb6d46\" y=\"84.063382\"/>\n     <use style=\"fill:#ff0000;stroke:#ff0000;\" x=\"184.769544\" xlink:href=\"#m87cadb6d46\" y=\"37.14358\"/>\n     <use style=\"fill:#ff0000;stroke:#ff0000;\" x=\"197.19255\" xlink:href=\"#m87cadb6d46\" y=\"37.14358\"/>\n     <use style=\"fill:#ff0000;stroke:#ff0000;\" x=\"209.615555\" xlink:href=\"#m87cadb6d46\" y=\"37.14358\"/>\n     <use style=\"fill:#ff0000;stroke:#ff0000;\" x=\"222.038561\" xlink:href=\"#m87cadb6d46\" y=\"37.14358\"/>\n     <use style=\"fill:#ff0000;stroke:#ff0000;\" x=\"234.461567\" xlink:href=\"#m87cadb6d46\" y=\"37.14358\"/>\n     <use style=\"fill:#ff0000;stroke:#ff0000;\" x=\"246.884572\" xlink:href=\"#m87cadb6d46\" y=\"37.14358\"/>\n     <use style=\"fill:#ff0000;stroke:#ff0000;\" x=\"259.307578\" xlink:href=\"#m87cadb6d46\" y=\"37.14358\"/>\n     <use style=\"fill:#ff0000;stroke:#ff0000;\" x=\"271.730583\" xlink:href=\"#m87cadb6d46\" y=\"37.14358\"/>\n     <use style=\"fill:#ff0000;stroke:#ff0000;\" x=\"284.153589\" xlink:href=\"#m87cadb6d46\" y=\"37.14358\"/>\n     <use style=\"fill:#ff0000;stroke:#ff0000;\" x=\"296.576594\" xlink:href=\"#m87cadb6d46\" y=\"37.14358\"/>\n     <use style=\"fill:#ff0000;stroke:#ff0000;\" x=\"308.9996\" xlink:href=\"#m87cadb6d46\" y=\"37.14358\"/>\n     <use style=\"fill:#ff0000;stroke:#ff0000;\" x=\"321.422606\" xlink:href=\"#m87cadb6d46\" y=\"37.14358\"/>\n     <use style=\"fill:#ff0000;stroke:#ff0000;\" x=\"333.845611\" xlink:href=\"#m87cadb6d46\" y=\"37.14358\"/>\n     <use style=\"fill:#ff0000;stroke:#ff0000;\" x=\"346.268617\" xlink:href=\"#m87cadb6d46\" y=\"37.14358\"/>\n     <use style=\"fill:#ff0000;stroke:#ff0000;\" x=\"358.691622\" xlink:href=\"#m87cadb6d46\" y=\"37.14358\"/>\n     <use style=\"fill:#ff0000;stroke:#ff0000;\" x=\"371.114628\" xlink:href=\"#m87cadb6d46\" y=\"37.14358\"/>\n     <use style=\"fill:#ff0000;stroke:#ff0000;\" x=\"383.537633\" xlink:href=\"#m87cadb6d46\" y=\"37.14358\"/>\n     <use style=\"fill:#ff0000;stroke:#ff0000;\" x=\"395.960639\" xlink:href=\"#m87cadb6d46\" y=\"37.14358\"/>\n     <use style=\"fill:#ff0000;stroke:#ff0000;\" x=\"408.383644\" xlink:href=\"#m87cadb6d46\" y=\"37.14358\"/>\n     <use style=\"fill:#ff0000;stroke:#ff0000;\" x=\"420.80665\" xlink:href=\"#m87cadb6d46\" y=\"37.14358\"/>\n     <use style=\"fill:#ff0000;stroke:#ff0000;\" x=\"433.229656\" xlink:href=\"#m87cadb6d46\" y=\"37.14358\"/>\n     <use style=\"fill:#ff0000;stroke:#ff0000;\" x=\"445.652661\" xlink:href=\"#m87cadb6d46\" y=\"37.14358\"/>\n     <use style=\"fill:#ff0000;stroke:#ff0000;\" x=\"458.075667\" xlink:href=\"#m87cadb6d46\" y=\"37.14358\"/>\n     <use style=\"fill:#ff0000;stroke:#ff0000;\" x=\"470.498672\" xlink:href=\"#m87cadb6d46\" y=\"37.14358\"/>\n     <use style=\"fill:#ff0000;stroke:#ff0000;\" x=\"482.921678\" xlink:href=\"#m87cadb6d46\" y=\"37.14358\"/>\n     <use style=\"fill:#ff0000;stroke:#ff0000;\" x=\"495.344683\" xlink:href=\"#m87cadb6d46\" y=\"37.14358\"/>\n     <use style=\"fill:#ff0000;stroke:#ff0000;\" x=\"507.767689\" xlink:href=\"#m87cadb6d46\" y=\"37.14358\"/>\n     <use style=\"fill:#ff0000;stroke:#ff0000;\" x=\"520.190695\" xlink:href=\"#m87cadb6d46\" y=\"37.14358\"/>\n     <use style=\"fill:#ff0000;stroke:#ff0000;\" x=\"532.6137\" xlink:href=\"#m87cadb6d46\" y=\"37.14358\"/>\n     <use style=\"fill:#ff0000;stroke:#ff0000;\" x=\"545.036706\" xlink:href=\"#m87cadb6d46\" y=\"37.14358\"/>\n     <use style=\"fill:#ff0000;stroke:#ff0000;\" x=\"557.459711\" xlink:href=\"#m87cadb6d46\" y=\"37.14358\"/>\n     <use style=\"fill:#ff0000;stroke:#ff0000;\" x=\"569.882717\" xlink:href=\"#m87cadb6d46\" y=\"37.14358\"/>\n     <use style=\"fill:#ff0000;stroke:#ff0000;\" x=\"582.305722\" xlink:href=\"#m87cadb6d46\" y=\"37.14358\"/>\n     <use style=\"fill:#ff0000;stroke:#ff0000;\" x=\"594.728728\" xlink:href=\"#m87cadb6d46\" y=\"37.14358\"/>\n     <use style=\"fill:#ff0000;stroke:#ff0000;\" x=\"607.151734\" xlink:href=\"#m87cadb6d46\" y=\"37.14358\"/>\n     <use style=\"fill:#ff0000;stroke:#ff0000;\" x=\"619.574739\" xlink:href=\"#m87cadb6d46\" y=\"37.14358\"/>\n     <use style=\"fill:#ff0000;stroke:#ff0000;\" x=\"631.997745\" xlink:href=\"#m87cadb6d46\" y=\"37.14358\"/>\n     <use style=\"fill:#ff0000;stroke:#ff0000;\" x=\"644.42075\" xlink:href=\"#m87cadb6d46\" y=\"37.14358\"/>\n     <use style=\"fill:#ff0000;stroke:#ff0000;\" x=\"656.843756\" xlink:href=\"#m87cadb6d46\" y=\"37.14358\"/>\n     <use style=\"fill:#ff0000;stroke:#ff0000;\" x=\"669.266761\" xlink:href=\"#m87cadb6d46\" y=\"37.14358\"/>\n    </g>\n   </g>\n   <g id=\"patch_3\">\n    <path d=\"M 30.103125 348.478125 \nL 30.103125 22.318125 \n\" style=\"fill:none;stroke:#000000;stroke-linecap:square;stroke-linejoin:miter;stroke-width:0.8;\"/>\n   </g>\n   <g id=\"patch_4\">\n    <path d=\"M 699.703125 348.478125 \nL 699.703125 22.318125 \n\" style=\"fill:none;stroke:#000000;stroke-linecap:square;stroke-linejoin:miter;stroke-width:0.8;\"/>\n   </g>\n   <g id=\"patch_5\">\n    <path d=\"M 30.103125 348.478125 \nL 699.703125 348.478125 \n\" style=\"fill:none;stroke:#000000;stroke-linecap:square;stroke-linejoin:miter;stroke-width:0.8;\"/>\n   </g>\n   <g id=\"patch_6\">\n    <path d=\"M 30.103125 22.318125 \nL 699.703125 22.318125 \n\" style=\"fill:none;stroke:#000000;stroke-linecap:square;stroke-linejoin:miter;stroke-width:0.8;\"/>\n   </g>\n   <g id=\"text_14\">\n    <!-- Expected utility during iterations of the algorithm -->\n    <defs>\n     <path d=\"M 9.8125 72.90625 \nL 55.90625 72.90625 \nL 55.90625 64.59375 \nL 19.671875 64.59375 \nL 19.671875 43.015625 \nL 54.390625 43.015625 \nL 54.390625 34.71875 \nL 19.671875 34.71875 \nL 19.671875 8.296875 \nL 56.78125 8.296875 \nL 56.78125 0 \nL 9.8125 0 \nz\n\" id=\"DejaVuSans-69\"/>\n     <path d=\"M 54.890625 54.6875 \nL 35.109375 28.078125 \nL 55.90625 0 \nL 45.3125 0 \nL 29.390625 21.484375 \nL 13.484375 0 \nL 2.875 0 \nL 24.125 28.609375 \nL 4.6875 54.6875 \nL 15.28125 54.6875 \nL 29.78125 35.203125 \nL 44.28125 54.6875 \nz\n\" id=\"DejaVuSans-120\"/>\n     <path d=\"M 18.109375 8.203125 \nL 18.109375 -20.796875 \nL 9.078125 -20.796875 \nL 9.078125 54.6875 \nL 18.109375 54.6875 \nL 18.109375 46.390625 \nQ 20.953125 51.265625 25.265625 53.625 \nQ 29.59375 56 35.59375 56 \nQ 45.5625 56 51.78125 48.09375 \nQ 58.015625 40.1875 58.015625 27.296875 \nQ 58.015625 14.40625 51.78125 6.484375 \nQ 45.5625 -1.421875 35.59375 -1.421875 \nQ 29.59375 -1.421875 25.265625 0.953125 \nQ 20.953125 3.328125 18.109375 8.203125 \nz\nM 48.6875 27.296875 \nQ 48.6875 37.203125 44.609375 42.84375 \nQ 40.53125 48.484375 33.40625 48.484375 \nQ 26.265625 48.484375 22.1875 42.84375 \nQ 18.109375 37.203125 18.109375 27.296875 \nQ 18.109375 17.390625 22.1875 11.75 \nQ 26.265625 6.109375 33.40625 6.109375 \nQ 40.53125 6.109375 44.609375 11.75 \nQ 48.6875 17.390625 48.6875 27.296875 \nz\n\" id=\"DejaVuSans-112\"/>\n     <path d=\"M 56.203125 29.59375 \nL 56.203125 25.203125 \nL 14.890625 25.203125 \nQ 15.484375 15.921875 20.484375 11.0625 \nQ 25.484375 6.203125 34.421875 6.203125 \nQ 39.59375 6.203125 44.453125 7.46875 \nQ 49.3125 8.734375 54.109375 11.28125 \nL 54.109375 2.78125 \nQ 49.265625 0.734375 44.1875 -0.34375 \nQ 39.109375 -1.421875 33.890625 -1.421875 \nQ 20.796875 -1.421875 13.15625 6.1875 \nQ 5.515625 13.8125 5.515625 26.8125 \nQ 5.515625 40.234375 12.765625 48.109375 \nQ 20.015625 56 32.328125 56 \nQ 43.359375 56 49.78125 48.890625 \nQ 56.203125 41.796875 56.203125 29.59375 \nz\nM 47.21875 32.234375 \nQ 47.125 39.59375 43.09375 43.984375 \nQ 39.0625 48.390625 32.421875 48.390625 \nQ 24.90625 48.390625 20.390625 44.140625 \nQ 15.875 39.890625 15.1875 32.171875 \nz\n\" id=\"DejaVuSans-101\"/>\n     <path d=\"M 48.78125 52.59375 \nL 48.78125 44.1875 \nQ 44.96875 46.296875 41.140625 47.34375 \nQ 37.3125 48.390625 33.40625 48.390625 \nQ 24.65625 48.390625 19.8125 42.84375 \nQ 14.984375 37.3125 14.984375 27.296875 \nQ 14.984375 17.28125 19.8125 11.734375 \nQ 24.65625 6.203125 33.40625 6.203125 \nQ 37.3125 6.203125 41.140625 7.25 \nQ 44.96875 8.296875 48.78125 10.40625 \nL 48.78125 2.09375 \nQ 45.015625 0.34375 40.984375 -0.53125 \nQ 36.96875 -1.421875 32.421875 -1.421875 \nQ 20.0625 -1.421875 12.78125 6.34375 \nQ 5.515625 14.109375 5.515625 27.296875 \nQ 5.515625 40.671875 12.859375 48.328125 \nQ 20.21875 56 33.015625 56 \nQ 37.15625 56 41.109375 55.140625 \nQ 45.0625 54.296875 48.78125 52.59375 \nz\n\" id=\"DejaVuSans-99\"/>\n     <path d=\"M 18.3125 70.21875 \nL 18.3125 54.6875 \nL 36.8125 54.6875 \nL 36.8125 47.703125 \nL 18.3125 47.703125 \nL 18.3125 18.015625 \nQ 18.3125 11.328125 20.140625 9.421875 \nQ 21.96875 7.515625 27.59375 7.515625 \nL 36.8125 7.515625 \nL 36.8125 0 \nL 27.59375 0 \nQ 17.1875 0 13.234375 3.875 \nQ 9.28125 7.765625 9.28125 18.015625 \nL 9.28125 47.703125 \nL 2.6875 47.703125 \nL 2.6875 54.6875 \nL 9.28125 54.6875 \nL 9.28125 70.21875 \nz\n\" id=\"DejaVuSans-116\"/>\n     <path d=\"M 45.40625 46.390625 \nL 45.40625 75.984375 \nL 54.390625 75.984375 \nL 54.390625 0 \nL 45.40625 0 \nL 45.40625 8.203125 \nQ 42.578125 3.328125 38.25 0.953125 \nQ 33.9375 -1.421875 27.875 -1.421875 \nQ 17.96875 -1.421875 11.734375 6.484375 \nQ 5.515625 14.40625 5.515625 27.296875 \nQ 5.515625 40.1875 11.734375 48.09375 \nQ 17.96875 56 27.875 56 \nQ 33.9375 56 38.25 53.625 \nQ 42.578125 51.265625 45.40625 46.390625 \nz\nM 14.796875 27.296875 \nQ 14.796875 17.390625 18.875 11.75 \nQ 22.953125 6.109375 30.078125 6.109375 \nQ 37.203125 6.109375 41.296875 11.75 \nQ 45.40625 17.390625 45.40625 27.296875 \nQ 45.40625 37.203125 41.296875 42.84375 \nQ 37.203125 48.484375 30.078125 48.484375 \nQ 22.953125 48.484375 18.875 42.84375 \nQ 14.796875 37.203125 14.796875 27.296875 \nz\n\" id=\"DejaVuSans-100\"/>\n     <path id=\"DejaVuSans-32\"/>\n     <path d=\"M 8.5 21.578125 \nL 8.5 54.6875 \nL 17.484375 54.6875 \nL 17.484375 21.921875 \nQ 17.484375 14.15625 20.5 10.265625 \nQ 23.53125 6.390625 29.59375 6.390625 \nQ 36.859375 6.390625 41.078125 11.03125 \nQ 45.3125 15.671875 45.3125 23.6875 \nL 45.3125 54.6875 \nL 54.296875 54.6875 \nL 54.296875 0 \nL 45.3125 0 \nL 45.3125 8.40625 \nQ 42.046875 3.421875 37.71875 1 \nQ 33.40625 -1.421875 27.6875 -1.421875 \nQ 18.265625 -1.421875 13.375 4.4375 \nQ 8.5 10.296875 8.5 21.578125 \nz\nM 31.109375 56 \nz\n\" id=\"DejaVuSans-117\"/>\n     <path d=\"M 9.421875 54.6875 \nL 18.40625 54.6875 \nL 18.40625 0 \nL 9.421875 0 \nz\nM 9.421875 75.984375 \nL 18.40625 75.984375 \nL 18.40625 64.59375 \nL 9.421875 64.59375 \nz\n\" id=\"DejaVuSans-105\"/>\n     <path d=\"M 9.421875 75.984375 \nL 18.40625 75.984375 \nL 18.40625 0 \nL 9.421875 0 \nz\n\" id=\"DejaVuSans-108\"/>\n     <path d=\"M 32.171875 -5.078125 \nQ 28.375 -14.84375 24.75 -17.8125 \nQ 21.140625 -20.796875 15.09375 -20.796875 \nL 7.90625 -20.796875 \nL 7.90625 -13.28125 \nL 13.1875 -13.28125 \nQ 16.890625 -13.28125 18.9375 -11.515625 \nQ 21 -9.765625 23.484375 -3.21875 \nL 25.09375 0.875 \nL 2.984375 54.6875 \nL 12.5 54.6875 \nL 29.59375 11.921875 \nL 46.6875 54.6875 \nL 56.203125 54.6875 \nz\n\" id=\"DejaVuSans-121\"/>\n     <path d=\"M 41.109375 46.296875 \nQ 39.59375 47.171875 37.8125 47.578125 \nQ 36.03125 48 33.890625 48 \nQ 26.265625 48 22.1875 43.046875 \nQ 18.109375 38.09375 18.109375 28.8125 \nL 18.109375 0 \nL 9.078125 0 \nL 9.078125 54.6875 \nL 18.109375 54.6875 \nL 18.109375 46.1875 \nQ 20.953125 51.171875 25.484375 53.578125 \nQ 30.03125 56 36.53125 56 \nQ 37.453125 56 38.578125 55.875 \nQ 39.703125 55.765625 41.0625 55.515625 \nz\n\" id=\"DejaVuSans-114\"/>\n     <path d=\"M 54.890625 33.015625 \nL 54.890625 0 \nL 45.90625 0 \nL 45.90625 32.71875 \nQ 45.90625 40.484375 42.875 44.328125 \nQ 39.84375 48.1875 33.796875 48.1875 \nQ 26.515625 48.1875 22.3125 43.546875 \nQ 18.109375 38.921875 18.109375 30.90625 \nL 18.109375 0 \nL 9.078125 0 \nL 9.078125 54.6875 \nL 18.109375 54.6875 \nL 18.109375 46.1875 \nQ 21.34375 51.125 25.703125 53.5625 \nQ 30.078125 56 35.796875 56 \nQ 45.21875 56 50.046875 50.171875 \nQ 54.890625 44.34375 54.890625 33.015625 \nz\n\" id=\"DejaVuSans-110\"/>\n     <path d=\"M 45.40625 27.984375 \nQ 45.40625 37.75 41.375 43.109375 \nQ 37.359375 48.484375 30.078125 48.484375 \nQ 22.859375 48.484375 18.828125 43.109375 \nQ 14.796875 37.75 14.796875 27.984375 \nQ 14.796875 18.265625 18.828125 12.890625 \nQ 22.859375 7.515625 30.078125 7.515625 \nQ 37.359375 7.515625 41.375 12.890625 \nQ 45.40625 18.265625 45.40625 27.984375 \nz\nM 54.390625 6.78125 \nQ 54.390625 -7.171875 48.1875 -13.984375 \nQ 42 -20.796875 29.203125 -20.796875 \nQ 24.46875 -20.796875 20.265625 -20.09375 \nQ 16.0625 -19.390625 12.109375 -17.921875 \nL 12.109375 -9.1875 \nQ 16.0625 -11.328125 19.921875 -12.34375 \nQ 23.78125 -13.375 27.78125 -13.375 \nQ 36.625 -13.375 41.015625 -8.765625 \nQ 45.40625 -4.15625 45.40625 5.171875 \nL 45.40625 9.625 \nQ 42.625 4.78125 38.28125 2.390625 \nQ 33.9375 0 27.875 0 \nQ 17.828125 0 11.671875 7.65625 \nQ 5.515625 15.328125 5.515625 27.984375 \nQ 5.515625 40.671875 11.671875 48.328125 \nQ 17.828125 56 27.875 56 \nQ 33.9375 56 38.28125 53.609375 \nQ 42.625 51.21875 45.40625 46.390625 \nL 45.40625 54.6875 \nL 54.390625 54.6875 \nz\n\" id=\"DejaVuSans-103\"/>\n     <path d=\"M 34.28125 27.484375 \nQ 23.390625 27.484375 19.1875 25 \nQ 14.984375 22.515625 14.984375 16.5 \nQ 14.984375 11.71875 18.140625 8.90625 \nQ 21.296875 6.109375 26.703125 6.109375 \nQ 34.1875 6.109375 38.703125 11.40625 \nQ 43.21875 16.703125 43.21875 25.484375 \nL 43.21875 27.484375 \nz\nM 52.203125 31.203125 \nL 52.203125 0 \nL 43.21875 0 \nL 43.21875 8.296875 \nQ 40.140625 3.328125 35.546875 0.953125 \nQ 30.953125 -1.421875 24.3125 -1.421875 \nQ 15.921875 -1.421875 10.953125 3.296875 \nQ 6 8.015625 6 15.921875 \nQ 6 25.140625 12.171875 29.828125 \nQ 18.359375 34.515625 30.609375 34.515625 \nL 43.21875 34.515625 \nL 43.21875 35.40625 \nQ 43.21875 41.609375 39.140625 45 \nQ 35.0625 48.390625 27.6875 48.390625 \nQ 23 48.390625 18.546875 47.265625 \nQ 14.109375 46.140625 10.015625 43.890625 \nL 10.015625 52.203125 \nQ 14.9375 54.109375 19.578125 55.046875 \nQ 24.21875 56 28.609375 56 \nQ 40.484375 56 46.34375 49.84375 \nQ 52.203125 43.703125 52.203125 31.203125 \nz\n\" id=\"DejaVuSans-97\"/>\n     <path d=\"M 30.609375 48.390625 \nQ 23.390625 48.390625 19.1875 42.75 \nQ 14.984375 37.109375 14.984375 27.296875 \nQ 14.984375 17.484375 19.15625 11.84375 \nQ 23.34375 6.203125 30.609375 6.203125 \nQ 37.796875 6.203125 41.984375 11.859375 \nQ 46.1875 17.53125 46.1875 27.296875 \nQ 46.1875 37.015625 41.984375 42.703125 \nQ 37.796875 48.390625 30.609375 48.390625 \nz\nM 30.609375 56 \nQ 42.328125 56 49.015625 48.375 \nQ 55.71875 40.765625 55.71875 27.296875 \nQ 55.71875 13.875 49.015625 6.21875 \nQ 42.328125 -1.421875 30.609375 -1.421875 \nQ 18.84375 -1.421875 12.171875 6.21875 \nQ 5.515625 13.875 5.515625 27.296875 \nQ 5.515625 40.765625 12.171875 48.375 \nQ 18.84375 56 30.609375 56 \nz\n\" id=\"DejaVuSans-111\"/>\n     <path d=\"M 44.28125 53.078125 \nL 44.28125 44.578125 \nQ 40.484375 46.53125 36.375 47.5 \nQ 32.28125 48.484375 27.875 48.484375 \nQ 21.1875 48.484375 17.84375 46.4375 \nQ 14.5 44.390625 14.5 40.28125 \nQ 14.5 37.15625 16.890625 35.375 \nQ 19.28125 33.59375 26.515625 31.984375 \nL 29.59375 31.296875 \nQ 39.15625 29.25 43.1875 25.515625 \nQ 47.21875 21.78125 47.21875 15.09375 \nQ 47.21875 7.46875 41.1875 3.015625 \nQ 35.15625 -1.421875 24.609375 -1.421875 \nQ 20.21875 -1.421875 15.453125 -0.5625 \nQ 10.6875 0.296875 5.421875 2 \nL 5.421875 11.28125 \nQ 10.40625 8.6875 15.234375 7.390625 \nQ 20.0625 6.109375 24.8125 6.109375 \nQ 31.15625 6.109375 34.5625 8.28125 \nQ 37.984375 10.453125 37.984375 14.40625 \nQ 37.984375 18.0625 35.515625 20.015625 \nQ 33.0625 21.96875 24.703125 23.78125 \nL 21.578125 24.515625 \nQ 13.234375 26.265625 9.515625 29.90625 \nQ 5.8125 33.546875 5.8125 39.890625 \nQ 5.8125 47.609375 11.28125 51.796875 \nQ 16.75 56 26.8125 56 \nQ 31.78125 56 36.171875 55.265625 \nQ 40.578125 54.546875 44.28125 53.078125 \nz\n\" id=\"DejaVuSans-115\"/>\n     <path d=\"M 37.109375 75.984375 \nL 37.109375 68.5 \nL 28.515625 68.5 \nQ 23.6875 68.5 21.796875 66.546875 \nQ 19.921875 64.59375 19.921875 59.515625 \nL 19.921875 54.6875 \nL 34.71875 54.6875 \nL 34.71875 47.703125 \nL 19.921875 47.703125 \nL 19.921875 0 \nL 10.890625 0 \nL 10.890625 47.703125 \nL 2.296875 47.703125 \nL 2.296875 54.6875 \nL 10.890625 54.6875 \nL 10.890625 58.5 \nQ 10.890625 67.625 15.140625 71.796875 \nQ 19.390625 75.984375 28.609375 75.984375 \nz\n\" id=\"DejaVuSans-102\"/>\n     <path d=\"M 54.890625 33.015625 \nL 54.890625 0 \nL 45.90625 0 \nL 45.90625 32.71875 \nQ 45.90625 40.484375 42.875 44.328125 \nQ 39.84375 48.1875 33.796875 48.1875 \nQ 26.515625 48.1875 22.3125 43.546875 \nQ 18.109375 38.921875 18.109375 30.90625 \nL 18.109375 0 \nL 9.078125 0 \nL 9.078125 75.984375 \nL 18.109375 75.984375 \nL 18.109375 46.1875 \nQ 21.34375 51.125 25.703125 53.5625 \nQ 30.078125 56 35.796875 56 \nQ 45.21875 56 50.046875 50.171875 \nQ 54.890625 44.34375 54.890625 33.015625 \nz\n\" id=\"DejaVuSans-104\"/>\n     <path d=\"M 52 44.1875 \nQ 55.375 50.25 60.0625 53.125 \nQ 64.75 56 71.09375 56 \nQ 79.640625 56 84.28125 50.015625 \nQ 88.921875 44.046875 88.921875 33.015625 \nL 88.921875 0 \nL 79.890625 0 \nL 79.890625 32.71875 \nQ 79.890625 40.578125 77.09375 44.375 \nQ 74.3125 48.1875 68.609375 48.1875 \nQ 61.625 48.1875 57.5625 43.546875 \nQ 53.515625 38.921875 53.515625 30.90625 \nL 53.515625 0 \nL 44.484375 0 \nL 44.484375 32.71875 \nQ 44.484375 40.625 41.703125 44.40625 \nQ 38.921875 48.1875 33.109375 48.1875 \nQ 26.21875 48.1875 22.15625 43.53125 \nQ 18.109375 38.875 18.109375 30.90625 \nL 18.109375 0 \nL 9.078125 0 \nL 9.078125 54.6875 \nL 18.109375 54.6875 \nL 18.109375 46.1875 \nQ 21.1875 51.21875 25.484375 53.609375 \nQ 29.78125 56 35.6875 56 \nQ 41.65625 56 45.828125 52.96875 \nQ 50 49.953125 52 44.1875 \nz\n\" id=\"DejaVuSans-109\"/>\n    </defs>\n    <g transform=\"translate(215.991563 16.318125)scale(0.12 -0.12)\">\n     <use xlink:href=\"#DejaVuSans-69\"/>\n     <use x=\"63.183594\" xlink:href=\"#DejaVuSans-120\"/>\n     <use x=\"122.363281\" xlink:href=\"#DejaVuSans-112\"/>\n     <use x=\"185.839844\" xlink:href=\"#DejaVuSans-101\"/>\n     <use x=\"247.363281\" xlink:href=\"#DejaVuSans-99\"/>\n     <use x=\"302.34375\" xlink:href=\"#DejaVuSans-116\"/>\n     <use x=\"341.552734\" xlink:href=\"#DejaVuSans-101\"/>\n     <use x=\"403.076172\" xlink:href=\"#DejaVuSans-100\"/>\n     <use x=\"466.552734\" xlink:href=\"#DejaVuSans-32\"/>\n     <use x=\"498.339844\" xlink:href=\"#DejaVuSans-117\"/>\n     <use x=\"561.71875\" xlink:href=\"#DejaVuSans-116\"/>\n     <use x=\"600.927734\" xlink:href=\"#DejaVuSans-105\"/>\n     <use x=\"628.710938\" xlink:href=\"#DejaVuSans-108\"/>\n     <use x=\"656.494141\" xlink:href=\"#DejaVuSans-105\"/>\n     <use x=\"684.277344\" xlink:href=\"#DejaVuSans-116\"/>\n     <use x=\"723.486328\" xlink:href=\"#DejaVuSans-121\"/>\n     <use x=\"782.666016\" xlink:href=\"#DejaVuSans-32\"/>\n     <use x=\"814.453125\" xlink:href=\"#DejaVuSans-100\"/>\n     <use x=\"877.929688\" xlink:href=\"#DejaVuSans-117\"/>\n     <use x=\"941.308594\" xlink:href=\"#DejaVuSans-114\"/>\n     <use x=\"982.421875\" xlink:href=\"#DejaVuSans-105\"/>\n     <use x=\"1010.205078\" xlink:href=\"#DejaVuSans-110\"/>\n     <use x=\"1073.583984\" xlink:href=\"#DejaVuSans-103\"/>\n     <use x=\"1137.060547\" xlink:href=\"#DejaVuSans-32\"/>\n     <use x=\"1168.847656\" xlink:href=\"#DejaVuSans-105\"/>\n     <use x=\"1196.630859\" xlink:href=\"#DejaVuSans-116\"/>\n     <use x=\"1235.839844\" xlink:href=\"#DejaVuSans-101\"/>\n     <use x=\"1297.363281\" xlink:href=\"#DejaVuSans-114\"/>\n     <use x=\"1338.476562\" xlink:href=\"#DejaVuSans-97\"/>\n     <use x=\"1399.755859\" xlink:href=\"#DejaVuSans-116\"/>\n     <use x=\"1438.964844\" xlink:href=\"#DejaVuSans-105\"/>\n     <use x=\"1466.748047\" xlink:href=\"#DejaVuSans-111\"/>\n     <use x=\"1527.929688\" xlink:href=\"#DejaVuSans-110\"/>\n     <use x=\"1591.308594\" xlink:href=\"#DejaVuSans-115\"/>\n     <use x=\"1643.408203\" xlink:href=\"#DejaVuSans-32\"/>\n     <use x=\"1675.195312\" xlink:href=\"#DejaVuSans-111\"/>\n     <use x=\"1736.376953\" xlink:href=\"#DejaVuSans-102\"/>\n     <use x=\"1771.582031\" xlink:href=\"#DejaVuSans-32\"/>\n     <use x=\"1803.369141\" xlink:href=\"#DejaVuSans-116\"/>\n     <use x=\"1842.578125\" xlink:href=\"#DejaVuSans-104\"/>\n     <use x=\"1905.957031\" xlink:href=\"#DejaVuSans-101\"/>\n     <use x=\"1967.480469\" xlink:href=\"#DejaVuSans-32\"/>\n     <use x=\"1999.267578\" xlink:href=\"#DejaVuSans-97\"/>\n     <use x=\"2060.546875\" xlink:href=\"#DejaVuSans-108\"/>\n     <use x=\"2088.330078\" xlink:href=\"#DejaVuSans-103\"/>\n     <use x=\"2151.806641\" xlink:href=\"#DejaVuSans-111\"/>\n     <use x=\"2212.988281\" xlink:href=\"#DejaVuSans-114\"/>\n     <use x=\"2254.101562\" xlink:href=\"#DejaVuSans-105\"/>\n     <use x=\"2281.884766\" xlink:href=\"#DejaVuSans-116\"/>\n     <use x=\"2321.09375\" xlink:href=\"#DejaVuSans-104\"/>\n     <use x=\"2384.472656\" xlink:href=\"#DejaVuSans-109\"/>\n    </g>\n   </g>\n   <g id=\"legend_1\">\n    <g id=\"patch_7\">\n     <path d=\"M 37.103125 44.99625 \nL 82.740625 44.99625 \nQ 84.740625 44.99625 84.740625 42.99625 \nL 84.740625 29.318125 \nQ 84.740625 27.318125 82.740625 27.318125 \nL 37.103125 27.318125 \nQ 35.103125 27.318125 35.103125 29.318125 \nL 35.103125 42.99625 \nQ 35.103125 44.99625 37.103125 44.99625 \nz\n\" style=\"fill:#ffffff;opacity:0.8;stroke:#cccccc;stroke-linejoin:miter;\"/>\n    </g>\n    <g id=\"line2d_15\">\n     <path d=\"M 39.103125 35.416563 \nL 59.103125 35.416563 \n\" style=\"fill:none;stroke:#ff0000;stroke-linecap:square;stroke-width:1.5;\"/>\n    </g>\n    <g id=\"line2d_16\">\n     <g>\n      <use style=\"fill:#ff0000;stroke:#ff0000;\" x=\"49.103125\" xlink:href=\"#m87cadb6d46\" y=\"35.416563\"/>\n     </g>\n    </g>\n    <g id=\"text_15\">\n     <!-- EU -->\n     <defs>\n      <path d=\"M 8.6875 72.90625 \nL 18.609375 72.90625 \nL 18.609375 28.609375 \nQ 18.609375 16.890625 22.84375 11.734375 \nQ 27.09375 6.59375 36.625 6.59375 \nQ 46.09375 6.59375 50.34375 11.734375 \nQ 54.59375 16.890625 54.59375 28.609375 \nL 54.59375 72.90625 \nL 64.5 72.90625 \nL 64.5 27.390625 \nQ 64.5 13.140625 57.4375 5.859375 \nQ 50.390625 -1.421875 36.625 -1.421875 \nQ 22.796875 -1.421875 15.734375 5.859375 \nQ 8.6875 13.140625 8.6875 27.390625 \nz\n\" id=\"DejaVuSans-85\"/>\n     </defs>\n     <g transform=\"translate(67.103125 38.916563)scale(0.1 -0.1)\">\n      <use xlink:href=\"#DejaVuSans-69\"/>\n      <use x=\"63.183594\" xlink:href=\"#DejaVuSans-85\"/>\n     </g>\n    </g>\n   </g>\n  </g>\n </g>\n <defs>\n  <clipPath id=\"p01de471e60\">\n   <rect height=\"326.16\" width=\"669.6\" x=\"30.103125\" y=\"22.318125\"/>\n  </clipPath>\n </defs>\n</svg>\n",
      "image/png": "[encoded data removed]"
     },
     "metadata": {
      "needs_background": "light"
     }
    }
   ],
   "source": [
    "from mypgm.approximated import heuristicID\n",
    "# logically, it requires more epochs to find the exact sol! the ID is huger\n",
    "h = heuristicID(dg, [dF, dG, dH])\n",
    "h.run_algorithm(max_epochs = 50, mut=0.9, population_size = 4, crossp=0.8)"
   ]
  },
  {
   "cell_type": "code",
   "execution_count": 9,
   "metadata": {},
   "outputs": [],
   "source": [
    "eu = ExpectedUtility(dg)"
   ]
  },
  {
   "cell_type": "code",
   "execution_count": 10,
   "metadata": {},
   "outputs": [
    {
     "output_type": "execute_result",
     "data": {
      "text/plain": [
       "3.3978492000000005"
      ]
     },
     "metadata": {},
     "execution_count": 10
    }
   ],
   "source": [
    "eu.expected_utility([ai.decisions[0], ai.decisions[1], ai.decisions[2]])"
   ]
  }
 ]
}